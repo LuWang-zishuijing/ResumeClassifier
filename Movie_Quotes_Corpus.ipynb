{
  "nbformat": 4,
  "nbformat_minor": 0,
  "metadata": {
    "colab": {
      "name": "Movie_Quotes_Corpus.ipynb",
      "version": "0.3.2",
      "provenance": [],
      "collapsed_sections": []
    },
    "kernelspec": {
      "name": "python3",
      "display_name": "Python 3"
    }
  },
  "cells": [
    {
      "cell_type": "code",
      "metadata": {
        "id": "_xChPv_891Xd",
        "colab_type": "code",
        "colab": {}
      },
      "source": [
        "# Movie-Quotes Corpus"
      ],
      "execution_count": 0,
      "outputs": []
    },
    {
      "cell_type": "code",
      "metadata": {
        "id": "f2M9_LNPAd5Y",
        "colab_type": "code",
        "colab": {}
      },
      "source": [
        "import pandas as pd"
      ],
      "execution_count": 0,
      "outputs": []
    },
    {
      "cell_type": "code",
      "metadata": {
        "id": "JuNUT92f-mOq",
        "colab_type": "code",
        "colab": {}
      },
      "source": [
        "import os\n",
        "import ast\n",
        "\n",
        "class CornellData:\n",
        "# 给出文件存放目录\n",
        "    def __init__(self, dirName):\n",
        "\n",
        "        self.lines = {}\n",
        "        self.conversations = []\n",
        "\n",
        "        MOVIE_LINES_FIELDS = [\"lineID\",\"characterID\",\"movieID\",\"character\",\"text\"]\n",
        "        MOVIE_CONVERSATIONS_FIELDS = [\"character1ID\",\"character2ID\",\"movieID\",\"utteranceIDs\"]\n",
        "\n",
        "        self.lines = self.loadLines(os.path.join(dirName, \"movie_lines.txt\"), MOVIE_LINES_FIELDS)\n",
        "        self.conversations = self.loadConversations(os.path.join(dirName, \"movie_conversations.txt\"), MOVIE_CONVERSATIONS_FIELDS)\n",
        "\n",
        "    def loadLines(self, fileName, fields):\n",
        "        \"\"\"\n",
        "        Args:\n",
        "            fileName (str): 需要加载的文件\n",
        "            field (set<str>): 提取字段\n",
        "        Return:\n",
        "            dict<dict<str>>: 每行提取的字段\n",
        "        \"\"\"\n",
        "        lines = {}\n",
        "\n",
        "        with open(fileName, 'r', encoding='iso-8859-1') as f:\n",
        "            for line in f:\n",
        "                values = line.split(\" +++$+++ \")\n",
        "\n",
        "                # 提取字段\n",
        "                lineObj = {}\n",
        "                for i, field in enumerate(fields):\n",
        "                    lineObj[field] = values[i]\n",
        "\n",
        "                lines[lineObj['lineID']] = lineObj\n",
        "        # 返回数据\n",
        "        return lines\n",
        "\n",
        "    def loadConversations(self, fileName, fields):\n",
        "        \"\"\"\n",
        "        Args:\n",
        "            fileName (str): 需要加载的文件\n",
        "            field (set<str>): 提取字段\n",
        "        Return:\n",
        "            dict<dict<str>>: 每一行提取的字段\n",
        "        \"\"\"\n",
        "        conversations = []\n",
        "\n",
        "        with open(fileName, 'r', encoding='iso-8859-1') as f:  # TODO: Solve Iso encoding pb !\n",
        "            for line in f:\n",
        "                values = line.split(\" +++$+++ \")\n",
        "\n",
        "                # 提取字段\n",
        "                convObj = {}\n",
        "                for i, field in enumerate(fields):\n",
        "                    convObj[field] = values[i]\n",
        "\n",
        "                # 将字符串转化为列表\n",
        "                lineIds = ast.literal_eval(convObj[\"utteranceIDs\"])\n",
        "\n",
        "                # 重组行\n",
        "                convObj[\"lines\"] = []\n",
        "                for lineId in lineIds:\n",
        "                    convObj[\"lines\"].append(self.lines[lineId])\n",
        "\n",
        "                conversations.append(convObj)\n",
        "\n",
        "        return conversations\n",
        "    # 返回数据\n",
        "    def getConversations(self):\n",
        "        return self.conversations\n",
        "      \n",
        "    def getLines(self):\n",
        "        return self.lines"
      ],
      "execution_count": 0,
      "outputs": []
    },
    {
      "cell_type": "code",
      "metadata": {
        "id": "fJpW6HFf_9-8",
        "colab_type": "code",
        "outputId": "2920aa28-a367-4fc3-f9f3-79b07d6ed484",
        "colab": {
          "resources": {
            "http://localhost:8080/nbextensions/google.colab/files.js": {
              "data": "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",
              "ok": true,
              "headers": [
                [
                  "content-type",
                  "application/javascript"
                ]
              ],
              "status": 200,
              "status_text": ""
            }
          },
          "base_uri": "https://localhost:8080/",
          "height": 74
        }
      },
      "source": [
        "from google.colab import files\n",
        "\n",
        "uploaded = files.upload()"
      ],
      "execution_count": 0,
      "outputs": [
        {
          "output_type": "display_data",
          "data": {
            "text/html": [
              "\n",
              "     <input type=\"file\" id=\"files-6ad851f4-ce90-4aa5-8c22-839854d01fdb\" name=\"files[]\" multiple disabled />\n",
              "     <output id=\"result-6ad851f4-ce90-4aa5-8c22-839854d01fdb\">\n",
              "      Upload widget is only available when the cell has been executed in the\n",
              "      current browser session. Please rerun this cell to enable.\n",
              "      </output>\n",
              "      <script src=\"/nbextensions/google.colab/files.js\"></script> "
            ],
            "text/plain": [
              "<IPython.core.display.HTML object>"
            ]
          },
          "metadata": {
            "tags": []
          }
        },
        {
          "output_type": "stream",
          "text": [
            "Saving movie_conversations.txt to movie_conversations (2).txt\n"
          ],
          "name": "stdout"
        }
      ]
    },
    {
      "cell_type": "code",
      "metadata": {
        "id": "rE4sBR0wHady",
        "colab_type": "code",
        "outputId": "030fe557-da46-414f-971a-178f7c55046d",
        "colab": {
          "base_uri": "https://localhost:8080/",
          "height": 122
        }
      },
      "source": [
        "# from google.colab import drive\n",
        "# drive.mount('/content/gdrive')"
      ],
      "execution_count": 0,
      "outputs": [
        {
          "output_type": "stream",
          "text": [
            "Go to this URL in a browser: https://accounts.google.com/o/oauth2/auth?client_id=947318989803-6bn6qk8qdgf4n4g3pfee6491hc0brc4i.apps.googleusercontent.com&redirect_uri=urn%3Aietf%3Awg%3Aoauth%3A2.0%3Aoob&scope=email%20https%3A%2F%2Fwww.googleapis.com%2Fauth%2Fdocs.test%20https%3A%2F%2Fwww.googleapis.com%2Fauth%2Fdrive%20https%3A%2F%2Fwww.googleapis.com%2Fauth%2Fdrive.photos.readonly%20https%3A%2F%2Fwww.googleapis.com%2Fauth%2Fpeopleapi.readonly&response_type=code\n",
            "\n",
            "Enter your authorization code:\n",
            "··········\n",
            "Mounted at /content/gdrive\n"
          ],
          "name": "stdout"
        }
      ]
    },
    {
      "cell_type": "code",
      "metadata": {
        "id": "KWzClXpPJZ9F",
        "colab_type": "code",
        "outputId": "fbe912a9-0798-4b07-fb63-ce5f5011c85a",
        "colab": {
          "base_uri": "https://localhost:8080/",
          "height": 1000
        }
      },
      "source": [
        "with open('README.txt', encoding = \"ISO-8859-1\") as f:\n",
        "  print(f.read())\n",
        "\n",
        "f.close()"
      ],
      "execution_count": 0,
      "outputs": [
        {
          "output_type": "stream",
          "text": [
            "Cornell Movie-Dialogs Corpus\n",
            "\n",
            "Distributed together with:\n",
            "\n",
            "\"Chameleons in imagined conversations: A new approach to understanding coordination of linguistic style in dialogs\"\n",
            "Cristian Danescu-Niculescu-Mizil and Lillian Lee\n",
            "Proceedings of the Workshop on Cognitive Modeling and Computational Linguistics, ACL 2011.\n",
            "\n",
            "(this paper is included in this zip file)\n",
            "\n",
            "NOTE: If you have results to report on these corpora, please send email to cristian@cs.cornell.edu or llee@cs.cornell.edu so we can add you to our list of people using this data.  Thanks!\n",
            "\n",
            "\n",
            "Contents of this README:\n",
            "\n",
            "\tA) Brief description\n",
            "\tB) Files description\n",
            "\tC) Details on the collection procedure\n",
            "\tD) Contact\n",
            "\n",
            "\n",
            "A) Brief description:\n",
            "\n",
            "This corpus contains a metadata-rich collection of fictional conversations extracted from raw movie scripts:\n",
            "\n",
            "- 220,579 conversational exchanges between 10,292 pairs of movie characters\n",
            "- involves 9,035 characters from 617 movies\n",
            "- in total 304,713 utterances\n",
            "- movie metadata included:\n",
            "\t- genres\n",
            "\t- release year\n",
            "\t- IMDB rating\n",
            "\t- number of IMDB votes\n",
            "\t- IMDB rating\n",
            "- character metadata included:\n",
            "\t- gender (for 3,774 characters)\n",
            "\t- position on movie credits (3,321 characters)\n",
            "\n",
            "\n",
            "B) Files description:\n",
            "\n",
            "In all files the field separator is \" +++$+++ \"\n",
            "\n",
            "- movie_titles_metadata.txt\n",
            "\t- contains information about each movie title\n",
            "\t- fields: \n",
            "\t\t- movieID, \n",
            "\t\t- movie title,\n",
            "\t\t- movie year, \n",
            "\t   \t- IMDB rating,\n",
            "\t\t- no. IMDB votes,\n",
            " \t\t- genres in the format ['genre1','genre2',É,'genreN']\n",
            "\n",
            "- movie_characters_metadata.txt\n",
            "\t- contains information about each movie character\n",
            "\t- fields:\n",
            "\t\t- characterID\n",
            "\t\t- character name\n",
            "\t\t- movieID\n",
            "\t\t- movie title\n",
            "\t\t- gender (\"?\" for unlabeled cases)\n",
            "\t\t- position in credits (\"?\" for unlabeled cases) \n",
            "\n",
            "- movie_lines.txt\n",
            "\t- contains the actual text of each utterance\n",
            "\t- fields:\n",
            "\t\t- lineID\n",
            "\t\t- characterID (who uttered this phrase)\n",
            "\t\t- movieID\n",
            "\t\t- character name\n",
            "\t\t- text of the utterance\n",
            "\n",
            "- movie_conversations.txt\n",
            "\t- the structure of the conversations\n",
            "\t- fields\n",
            "\t\t- characterID of the first character involved in the conversation\n",
            "\t\t- characterID of the second character involved in the conversation\n",
            "\t\t- movieID of the movie in which the conversation occurred\n",
            "\t\t- list of the utterances that make the conversation, in chronological \n",
            "\t\t\torder: ['lineID1','lineID2',É,'lineIDN']\n",
            "\t\t\thas to be matched with movie_lines.txt to reconstruct the actual content\n",
            "\n",
            "- raw_script_urls.txt\n",
            "\t- the urls from which the raw sources were retrieved\n",
            "\n",
            "C) Details on the collection procedure:\n",
            "\n",
            "We started from raw publicly available movie scripts (sources acknowledged in \n",
            "raw_script_urls.txt).  In order to collect the metadata necessary for this study \n",
            "and to distinguish between two script versions of the same movie, we automatically\n",
            " matched each script with an entry in movie database provided by IMDB (The Internet\n",
            " Movie Database; data interfaces available at http://www.imdb.com/interfaces). Some\n",
            " amount of manual correction was also involved. When  more than one movie with the same\n",
            " title was found in IMBD, the match was made with the most popular title \n",
            "(the one that received most IMDB votes)  \n",
            "\n",
            "After discarding all movies that could not be matched or that had less than 5 IMDB \n",
            "votes, we were left with 617 unique titles with metadata including genre, release \n",
            "year, IMDB rating and no. of IMDB votes and cast distribution.  We then identified \n",
            "the pairs of characters that interact and separated their conversations automatically \n",
            "using simple data processing heuristics. After discarding all pairs that exchanged \n",
            "less than 5 conversational exchanges there were 10,292 left, exchanging 220,579 \n",
            "conversational exchanges (304,713 utterances).  After automatically matching the names \n",
            "of the 9,035 involved characters to the list of cast distribution, we used the \n",
            "gender of each interpreting actor to infer the fictional gender of a subset of \n",
            "3,321 movie characters (we raised the number of gendered 3,774 characters through\n",
            " manual annotation). Similarly, we collected the end credit position of a subset \n",
            "of 3,321 characters as a proxy for their status.\n",
            "\n",
            "\n",
            "D) Contact:\n",
            "\n",
            "Please email any questions to: cristian@cs.cornell.edu (Cristian Danescu-Niculescu-Mizil)\n"
          ],
          "name": "stdout"
        }
      ]
    },
    {
      "cell_type": "code",
      "metadata": {
        "id": "iPgCBTEPRKKU",
        "colab_type": "code",
        "colab": {}
      },
      "source": [
        "#!/usr/bin/env python3\n",
        "import fileinput\n",
        "\n",
        "with fileinput.FileInput('movie_conversations (2).txt', inplace=True, backup='.bak') as file:\n",
        "    for line in file:\n",
        "        print(line.replace(\" +++$+++ \", \"\\t\"), end='')"
      ],
      "execution_count": 0,
      "outputs": []
    },
    {
      "cell_type": "code",
      "metadata": {
        "id": "Nrcsg7jkLcol",
        "colab_type": "code",
        "outputId": "abaf304e-d499-4aa4-f0fb-8f92a4340fa4",
        "colab": {
          "base_uri": "https://localhost:8080/",
          "height": 204
        }
      },
      "source": [
        "data = pd.read_csv('movie_conversations (2).txt', sep=\"\\t\", header=None, error_bad_lines=False, names = [\"characterID_First\", \"characterID_second\", \"movieID\", \"list_of_utterances\"], engine='python')\n",
        "# data.columns = [\"characterID_First\", \"characterID_second\", \"movieID\", \"list_of_utterances\"]\n",
        "data.head()"
      ],
      "execution_count": 0,
      "outputs": [
        {
          "output_type": "execute_result",
          "data": {
            "text/html": [
              "<div>\n",
              "<style scoped>\n",
              "    .dataframe tbody tr th:only-of-type {\n",
              "        vertical-align: middle;\n",
              "    }\n",
              "\n",
              "    .dataframe tbody tr th {\n",
              "        vertical-align: top;\n",
              "    }\n",
              "\n",
              "    .dataframe thead th {\n",
              "        text-align: right;\n",
              "    }\n",
              "</style>\n",
              "<table border=\"1\" class=\"dataframe\">\n",
              "  <thead>\n",
              "    <tr style=\"text-align: right;\">\n",
              "      <th></th>\n",
              "      <th>characterID_First</th>\n",
              "      <th>characterID_second</th>\n",
              "      <th>movieID</th>\n",
              "      <th>list_of_utterances</th>\n",
              "    </tr>\n",
              "  </thead>\n",
              "  <tbody>\n",
              "    <tr>\n",
              "      <th>0</th>\n",
              "      <td>u0</td>\n",
              "      <td>u2</td>\n",
              "      <td>m0</td>\n",
              "      <td>['L194', 'L195', 'L196', 'L197']</td>\n",
              "    </tr>\n",
              "    <tr>\n",
              "      <th>1</th>\n",
              "      <td>u0</td>\n",
              "      <td>u2</td>\n",
              "      <td>m0</td>\n",
              "      <td>['L198', 'L199']</td>\n",
              "    </tr>\n",
              "    <tr>\n",
              "      <th>2</th>\n",
              "      <td>u0</td>\n",
              "      <td>u2</td>\n",
              "      <td>m0</td>\n",
              "      <td>['L200', 'L201', 'L202', 'L203']</td>\n",
              "    </tr>\n",
              "    <tr>\n",
              "      <th>3</th>\n",
              "      <td>u0</td>\n",
              "      <td>u2</td>\n",
              "      <td>m0</td>\n",
              "      <td>['L204', 'L205', 'L206']</td>\n",
              "    </tr>\n",
              "    <tr>\n",
              "      <th>4</th>\n",
              "      <td>u0</td>\n",
              "      <td>u2</td>\n",
              "      <td>m0</td>\n",
              "      <td>['L207', 'L208']</td>\n",
              "    </tr>\n",
              "  </tbody>\n",
              "</table>\n",
              "</div>"
            ],
            "text/plain": [
              "  characterID_First  ...                list_of_utterances\n",
              "0                u0  ...  ['L194', 'L195', 'L196', 'L197']\n",
              "1                u0  ...                  ['L198', 'L199']\n",
              "2                u0  ...  ['L200', 'L201', 'L202', 'L203']\n",
              "3                u0  ...          ['L204', 'L205', 'L206']\n",
              "4                u0  ...                  ['L207', 'L208']\n",
              "\n",
              "[5 rows x 4 columns]"
            ]
          },
          "metadata": {
            "tags": []
          },
          "execution_count": 140
        }
      ]
    },
    {
      "cell_type": "code",
      "metadata": {
        "id": "zf2gR-6wTvaP",
        "colab_type": "code",
        "outputId": "081d322f-3ead-4aa2-8e34-49283d18a541",
        "colab": {
          "base_uri": "https://localhost:8080/",
          "height": 204
        }
      },
      "source": [
        "data.to_csv('movie_conversations.csv', index=False)\n",
        "data_0 = pd.read_csv('movie_conversations.csv')\n",
        "data_0.head()"
      ],
      "execution_count": 0,
      "outputs": [
        {
          "output_type": "execute_result",
          "data": {
            "text/html": [
              "<div>\n",
              "<style scoped>\n",
              "    .dataframe tbody tr th:only-of-type {\n",
              "        vertical-align: middle;\n",
              "    }\n",
              "\n",
              "    .dataframe tbody tr th {\n",
              "        vertical-align: top;\n",
              "    }\n",
              "\n",
              "    .dataframe thead th {\n",
              "        text-align: right;\n",
              "    }\n",
              "</style>\n",
              "<table border=\"1\" class=\"dataframe\">\n",
              "  <thead>\n",
              "    <tr style=\"text-align: right;\">\n",
              "      <th></th>\n",
              "      <th>characterID_First</th>\n",
              "      <th>characterID_second</th>\n",
              "      <th>movieID</th>\n",
              "      <th>list_of_utterances</th>\n",
              "    </tr>\n",
              "  </thead>\n",
              "  <tbody>\n",
              "    <tr>\n",
              "      <th>0</th>\n",
              "      <td>u0</td>\n",
              "      <td>u2</td>\n",
              "      <td>m0</td>\n",
              "      <td>['L194', 'L195', 'L196', 'L197']</td>\n",
              "    </tr>\n",
              "    <tr>\n",
              "      <th>1</th>\n",
              "      <td>u0</td>\n",
              "      <td>u2</td>\n",
              "      <td>m0</td>\n",
              "      <td>['L198', 'L199']</td>\n",
              "    </tr>\n",
              "    <tr>\n",
              "      <th>2</th>\n",
              "      <td>u0</td>\n",
              "      <td>u2</td>\n",
              "      <td>m0</td>\n",
              "      <td>['L200', 'L201', 'L202', 'L203']</td>\n",
              "    </tr>\n",
              "    <tr>\n",
              "      <th>3</th>\n",
              "      <td>u0</td>\n",
              "      <td>u2</td>\n",
              "      <td>m0</td>\n",
              "      <td>['L204', 'L205', 'L206']</td>\n",
              "    </tr>\n",
              "    <tr>\n",
              "      <th>4</th>\n",
              "      <td>u0</td>\n",
              "      <td>u2</td>\n",
              "      <td>m0</td>\n",
              "      <td>['L207', 'L208']</td>\n",
              "    </tr>\n",
              "  </tbody>\n",
              "</table>\n",
              "</div>"
            ],
            "text/plain": [
              "  characterID_First  ...                list_of_utterances\n",
              "0                u0  ...  ['L194', 'L195', 'L196', 'L197']\n",
              "1                u0  ...                  ['L198', 'L199']\n",
              "2                u0  ...  ['L200', 'L201', 'L202', 'L203']\n",
              "3                u0  ...          ['L204', 'L205', 'L206']\n",
              "4                u0  ...                  ['L207', 'L208']\n",
              "\n",
              "[5 rows x 4 columns]"
            ]
          },
          "metadata": {
            "tags": []
          },
          "execution_count": 141
        }
      ]
    },
    {
      "cell_type": "code",
      "metadata": {
        "id": "dNlgOzy6VLsw",
        "colab_type": "code",
        "colab": {}
      },
      "source": [
        "#!/usr/bin/env python3\n",
        "import fileinput\n",
        "\n",
        "\n",
        "def read_txt(filename):\n",
        "  with fileinput.FileInput(filename, inplace=True, backup='.bak') as file:\n",
        "      for line in file:\n",
        "        print(line)\n",
        "        try:\n",
        "          print(line.replace(\" +++$+++ \", \"\\t\"), end='')\n",
        "        except:\n",
        "          line.encode('utf-8').strip()\n",
        "          print(line.replace(\" +++$+++ \", \"\\t\"), end='')\n",
        "#         break"
      ],
      "execution_count": 0,
      "outputs": []
    },
    {
      "cell_type": "code",
      "metadata": {
        "id": "5dxxNr0IVQ9c",
        "colab_type": "code",
        "colab": {}
      },
      "source": [
        "# read_txt('movie_characters_metadata.txt')\n",
        "# read_txt('movie_titles_metadata.txt')\n",
        "read_txt('movie_lines.txt')"
      ],
      "execution_count": 0,
      "outputs": []
    },
    {
      "cell_type": "code",
      "metadata": {
        "id": "O40BYrnfVMrC",
        "colab_type": "code",
        "outputId": "d2d92477-cd79-49ca-9162-a504f5f869c1",
        "colab": {
          "base_uri": "https://localhost:8080/",
          "height": 68
        }
      },
      "source": [
        "ls"
      ],
      "execution_count": 0,
      "outputs": [
        {
          "output_type": "stream",
          "text": [
            "movie_characters_metadata.txt  movie_conversations.txt.bak  raw_script_urls.txt\n",
            "movie_conversations.csv        movie_lines.txt              README.txt\n",
            "movie_conversations.txt        movie_titles_metadata.txt\n"
          ],
          "name": "stdout"
        }
      ]
    },
    {
      "cell_type": "code",
      "metadata": {
        "id": "wghfcmPCZ5U6",
        "colab_type": "code",
        "colab": {}
      },
      "source": [
        "\t\t- movieID, \n",
        "\t\t- movie title,\n",
        "\t\t- movie year, \n",
        "\t   \t- IMDB rating,\n",
        "\t\t- no. IMDB votes,\n",
        " \t\t- genres in the format ['genre1','genre2',É,'genreN']"
      ],
      "execution_count": 0,
      "outputs": []
    },
    {
      "cell_type": "code",
      "metadata": {
        "id": "vTC_YesLUx4n",
        "colab_type": "code",
        "outputId": "791d3a3e-808a-4f0e-899a-90428be44cd3",
        "colab": {
          "base_uri": "https://localhost:8080/",
          "height": 204
        }
      },
      "source": [
        "data = pd.read_csv('movie_titles_metadata.txt', sep=\"\\t\", header=None, error_bad_lines=False, engine='python',names=['movieID', 'movieTitle', 'movieYear', 'IMDB_rating', 'numIMDBvotes', 'Genres'])\n",
        "data.head()"
      ],
      "execution_count": 0,
      "outputs": [
        {
          "output_type": "execute_result",
          "data": {
            "text/html": [
              "<div>\n",
              "<style scoped>\n",
              "    .dataframe tbody tr th:only-of-type {\n",
              "        vertical-align: middle;\n",
              "    }\n",
              "\n",
              "    .dataframe tbody tr th {\n",
              "        vertical-align: top;\n",
              "    }\n",
              "\n",
              "    .dataframe thead th {\n",
              "        text-align: right;\n",
              "    }\n",
              "</style>\n",
              "<table border=\"1\" class=\"dataframe\">\n",
              "  <thead>\n",
              "    <tr style=\"text-align: right;\">\n",
              "      <th></th>\n",
              "      <th>movieID</th>\n",
              "      <th>movieTitle</th>\n",
              "      <th>movieYear</th>\n",
              "      <th>IMDB_rating</th>\n",
              "      <th>numIMDBvotes</th>\n",
              "      <th>Genres</th>\n",
              "    </tr>\n",
              "  </thead>\n",
              "  <tbody>\n",
              "    <tr>\n",
              "      <th>0</th>\n",
              "      <td>m0</td>\n",
              "      <td>10 things i hate about you</td>\n",
              "      <td>1999</td>\n",
              "      <td>6.9</td>\n",
              "      <td>62847</td>\n",
              "      <td>['comedy', 'romance']</td>\n",
              "    </tr>\n",
              "    <tr>\n",
              "      <th>1</th>\n",
              "      <td>m0</td>\n",
              "      <td>10 things i hate about you</td>\n",
              "      <td>1999</td>\n",
              "      <td>6.9</td>\n",
              "      <td>62847</td>\n",
              "      <td>['comedy', 'romance']</td>\n",
              "    </tr>\n",
              "    <tr>\n",
              "      <th>2</th>\n",
              "      <td>m1</td>\n",
              "      <td>1492: conquest of paradise</td>\n",
              "      <td>1992</td>\n",
              "      <td>6.2</td>\n",
              "      <td>10421</td>\n",
              "      <td>['adventure', 'biography', 'drama', 'history']</td>\n",
              "    </tr>\n",
              "    <tr>\n",
              "      <th>3</th>\n",
              "      <td>m1</td>\n",
              "      <td>1492: conquest of paradise</td>\n",
              "      <td>1992</td>\n",
              "      <td>6.2</td>\n",
              "      <td>10421</td>\n",
              "      <td>['adventure', 'biography', 'drama', 'history']</td>\n",
              "    </tr>\n",
              "    <tr>\n",
              "      <th>4</th>\n",
              "      <td>m2</td>\n",
              "      <td>15 minutes</td>\n",
              "      <td>2001</td>\n",
              "      <td>6.1</td>\n",
              "      <td>25854</td>\n",
              "      <td>['action', 'crime', 'drama', 'thriller']</td>\n",
              "    </tr>\n",
              "  </tbody>\n",
              "</table>\n",
              "</div>"
            ],
            "text/plain": [
              "  movieID  ...                                          Genres\n",
              "0      m0  ...                           ['comedy', 'romance']\n",
              "1      m0  ...                           ['comedy', 'romance']\n",
              "2      m1  ...  ['adventure', 'biography', 'drama', 'history']\n",
              "3      m1  ...  ['adventure', 'biography', 'drama', 'history']\n",
              "4      m2  ...        ['action', 'crime', 'drama', 'thriller']\n",
              "\n",
              "[5 rows x 6 columns]"
            ]
          },
          "metadata": {
            "tags": []
          },
          "execution_count": 174
        }
      ]
    },
    {
      "cell_type": "code",
      "metadata": {
        "id": "ZWuK39UICyWO",
        "colab_type": "code",
        "outputId": "c90c181f-ba98-461e-e18b-96afb00eba92",
        "colab": {
          "base_uri": "https://localhost:8080/",
          "height": 204
        }
      },
      "source": [
        "data.to_csv('movie_titles_metadata.csv', index=False)\n",
        "data_0 = pd.read_csv('movie_titles_metadata.csv')\n",
        "data_0.head()"
      ],
      "execution_count": 0,
      "outputs": [
        {
          "output_type": "execute_result",
          "data": {
            "text/html": [
              "<div>\n",
              "<style scoped>\n",
              "    .dataframe tbody tr th:only-of-type {\n",
              "        vertical-align: middle;\n",
              "    }\n",
              "\n",
              "    .dataframe tbody tr th {\n",
              "        vertical-align: top;\n",
              "    }\n",
              "\n",
              "    .dataframe thead th {\n",
              "        text-align: right;\n",
              "    }\n",
              "</style>\n",
              "<table border=\"1\" class=\"dataframe\">\n",
              "  <thead>\n",
              "    <tr style=\"text-align: right;\">\n",
              "      <th></th>\n",
              "      <th>movieID</th>\n",
              "      <th>movieTitle</th>\n",
              "      <th>movieYear</th>\n",
              "      <th>IMDB_rating</th>\n",
              "      <th>numIMDBvotes</th>\n",
              "      <th>Genres</th>\n",
              "    </tr>\n",
              "  </thead>\n",
              "  <tbody>\n",
              "    <tr>\n",
              "      <th>0</th>\n",
              "      <td>m0</td>\n",
              "      <td>10 things i hate about you</td>\n",
              "      <td>1999</td>\n",
              "      <td>6.9</td>\n",
              "      <td>62847</td>\n",
              "      <td>['comedy', 'romance']</td>\n",
              "    </tr>\n",
              "    <tr>\n",
              "      <th>1</th>\n",
              "      <td>m0</td>\n",
              "      <td>10 things i hate about you</td>\n",
              "      <td>1999</td>\n",
              "      <td>6.9</td>\n",
              "      <td>62847</td>\n",
              "      <td>['comedy', 'romance']</td>\n",
              "    </tr>\n",
              "    <tr>\n",
              "      <th>2</th>\n",
              "      <td>m1</td>\n",
              "      <td>1492: conquest of paradise</td>\n",
              "      <td>1992</td>\n",
              "      <td>6.2</td>\n",
              "      <td>10421</td>\n",
              "      <td>['adventure', 'biography', 'drama', 'history']</td>\n",
              "    </tr>\n",
              "    <tr>\n",
              "      <th>3</th>\n",
              "      <td>m1</td>\n",
              "      <td>1492: conquest of paradise</td>\n",
              "      <td>1992</td>\n",
              "      <td>6.2</td>\n",
              "      <td>10421</td>\n",
              "      <td>['adventure', 'biography', 'drama', 'history']</td>\n",
              "    </tr>\n",
              "    <tr>\n",
              "      <th>4</th>\n",
              "      <td>m2</td>\n",
              "      <td>15 minutes</td>\n",
              "      <td>2001</td>\n",
              "      <td>6.1</td>\n",
              "      <td>25854</td>\n",
              "      <td>['action', 'crime', 'drama', 'thriller']</td>\n",
              "    </tr>\n",
              "  </tbody>\n",
              "</table>\n",
              "</div>"
            ],
            "text/plain": [
              "  movieID  ...                                          Genres\n",
              "0      m0  ...                           ['comedy', 'romance']\n",
              "1      m0  ...                           ['comedy', 'romance']\n",
              "2      m1  ...  ['adventure', 'biography', 'drama', 'history']\n",
              "3      m1  ...  ['adventure', 'biography', 'drama', 'history']\n",
              "4      m2  ...        ['action', 'crime', 'drama', 'thriller']\n",
              "\n",
              "[5 rows x 6 columns]"
            ]
          },
          "metadata": {
            "tags": []
          },
          "execution_count": 177
        }
      ]
    },
    {
      "cell_type": "code",
      "metadata": {
        "id": "z4LqD9rRbSfY",
        "colab_type": "code",
        "colab": {}
      },
      "source": [
        "- movie_lines.txt\n",
        "\t- contains the actual text of each utterance\n",
        "\t- fields:\n",
        "\t\t- lineID\n",
        "\t\t- characterID (who uttered this phrase)\n",
        "\t\t- movieID\n",
        "\t\t- character name\n",
        "\t\t- text of the utterance"
      ],
      "execution_count": 0,
      "outputs": []
    },
    {
      "cell_type": "code",
      "metadata": {
        "id": "BzzAN9IzCyZc",
        "colab_type": "code",
        "outputId": "14edac7d-c0cd-4f54-f5f2-1eb3437ac027",
        "colab": {
          "base_uri": "https://localhost:8080/",
          "height": 306
        }
      },
      "source": [
        "data = pd.read_csv('movie_lines.txt', sep=\"\\t\", header=None, error_bad_lines=False, engine='python',names=['lineID', 'characterID', 'movieID', 'character_name', 'text_of_utterances'])\n",
        "data.head()"
      ],
      "execution_count": 0,
      "outputs": [
        {
          "output_type": "stream",
          "text": [
            "Skipping line 1591: '\t' expected after '\"'\n",
            "Skipping line 1593: '\t' expected after '\"'\n",
            "Skipping line 9556: '\t' expected after '\"'\n",
            "Skipping line 9558: '\t' expected after '\"'\n",
            "Skipping line 10678: '\t' expected after '\"'\n",
            "Skipping line 10680: '\t' expected after '\"'\n"
          ],
          "name": "stderr"
        },
        {
          "output_type": "execute_result",
          "data": {
            "text/html": [
              "<div>\n",
              "<style scoped>\n",
              "    .dataframe tbody tr th:only-of-type {\n",
              "        vertical-align: middle;\n",
              "    }\n",
              "\n",
              "    .dataframe tbody tr th {\n",
              "        vertical-align: top;\n",
              "    }\n",
              "\n",
              "    .dataframe thead th {\n",
              "        text-align: right;\n",
              "    }\n",
              "</style>\n",
              "<table border=\"1\" class=\"dataframe\">\n",
              "  <thead>\n",
              "    <tr style=\"text-align: right;\">\n",
              "      <th></th>\n",
              "      <th>lineID</th>\n",
              "      <th>characterID</th>\n",
              "      <th>movieID</th>\n",
              "      <th>character_name</th>\n",
              "      <th>text_of_utterances</th>\n",
              "    </tr>\n",
              "  </thead>\n",
              "  <tbody>\n",
              "    <tr>\n",
              "      <th>0</th>\n",
              "      <td>L1045</td>\n",
              "      <td>u0</td>\n",
              "      <td>m0</td>\n",
              "      <td>BIANCA</td>\n",
              "      <td>They do not!</td>\n",
              "    </tr>\n",
              "    <tr>\n",
              "      <th>1</th>\n",
              "      <td>L1045</td>\n",
              "      <td>u0</td>\n",
              "      <td>m0</td>\n",
              "      <td>BIANCA</td>\n",
              "      <td>They do not!</td>\n",
              "    </tr>\n",
              "    <tr>\n",
              "      <th>2</th>\n",
              "      <td>L1044</td>\n",
              "      <td>u2</td>\n",
              "      <td>m0</td>\n",
              "      <td>CAMERON</td>\n",
              "      <td>They do to!</td>\n",
              "    </tr>\n",
              "    <tr>\n",
              "      <th>3</th>\n",
              "      <td>L1044</td>\n",
              "      <td>u2</td>\n",
              "      <td>m0</td>\n",
              "      <td>CAMERON</td>\n",
              "      <td>They do to!</td>\n",
              "    </tr>\n",
              "    <tr>\n",
              "      <th>4</th>\n",
              "      <td>L985</td>\n",
              "      <td>u0</td>\n",
              "      <td>m0</td>\n",
              "      <td>BIANCA</td>\n",
              "      <td>I hope so.</td>\n",
              "    </tr>\n",
              "  </tbody>\n",
              "</table>\n",
              "</div>"
            ],
            "text/plain": [
              "  lineID characterID movieID character_name text_of_utterances\n",
              "0  L1045          u0      m0         BIANCA       They do not!\n",
              "1  L1045          u0      m0         BIANCA       They do not!\n",
              "2  L1044          u2      m0        CAMERON        They do to!\n",
              "3  L1044          u2      m0        CAMERON        They do to!\n",
              "4   L985          u0      m0         BIANCA         I hope so."
            ]
          },
          "metadata": {
            "tags": []
          },
          "execution_count": 178
        }
      ]
    },
    {
      "cell_type": "code",
      "metadata": {
        "id": "jBVyKiWBbfQB",
        "colab_type": "code",
        "outputId": "27b54727-b80e-4f52-e2bd-5904bcd9ea08",
        "colab": {
          "base_uri": "https://localhost:8080/",
          "height": 204
        }
      },
      "source": [
        "data.to_csv('movie_lines.csv', index=False)\n",
        "data_0 = pd.read_csv('movie_lines.csv')\n",
        "data_0.head()"
      ],
      "execution_count": 0,
      "outputs": [
        {
          "output_type": "execute_result",
          "data": {
            "text/html": [
              "<div>\n",
              "<style scoped>\n",
              "    .dataframe tbody tr th:only-of-type {\n",
              "        vertical-align: middle;\n",
              "    }\n",
              "\n",
              "    .dataframe tbody tr th {\n",
              "        vertical-align: top;\n",
              "    }\n",
              "\n",
              "    .dataframe thead th {\n",
              "        text-align: right;\n",
              "    }\n",
              "</style>\n",
              "<table border=\"1\" class=\"dataframe\">\n",
              "  <thead>\n",
              "    <tr style=\"text-align: right;\">\n",
              "      <th></th>\n",
              "      <th>lineID</th>\n",
              "      <th>characterID</th>\n",
              "      <th>movieID</th>\n",
              "      <th>character_name</th>\n",
              "      <th>text_of_utterances</th>\n",
              "    </tr>\n",
              "  </thead>\n",
              "  <tbody>\n",
              "    <tr>\n",
              "      <th>0</th>\n",
              "      <td>L1045</td>\n",
              "      <td>u0</td>\n",
              "      <td>m0</td>\n",
              "      <td>BIANCA</td>\n",
              "      <td>They do not!</td>\n",
              "    </tr>\n",
              "    <tr>\n",
              "      <th>1</th>\n",
              "      <td>L1045</td>\n",
              "      <td>u0</td>\n",
              "      <td>m0</td>\n",
              "      <td>BIANCA</td>\n",
              "      <td>They do not!</td>\n",
              "    </tr>\n",
              "    <tr>\n",
              "      <th>2</th>\n",
              "      <td>L1044</td>\n",
              "      <td>u2</td>\n",
              "      <td>m0</td>\n",
              "      <td>CAMERON</td>\n",
              "      <td>They do to!</td>\n",
              "    </tr>\n",
              "    <tr>\n",
              "      <th>3</th>\n",
              "      <td>L1044</td>\n",
              "      <td>u2</td>\n",
              "      <td>m0</td>\n",
              "      <td>CAMERON</td>\n",
              "      <td>They do to!</td>\n",
              "    </tr>\n",
              "    <tr>\n",
              "      <th>4</th>\n",
              "      <td>L985</td>\n",
              "      <td>u0</td>\n",
              "      <td>m0</td>\n",
              "      <td>BIANCA</td>\n",
              "      <td>I hope so.</td>\n",
              "    </tr>\n",
              "  </tbody>\n",
              "</table>\n",
              "</div>"
            ],
            "text/plain": [
              "  lineID characterID movieID character_name text_of_utterances\n",
              "0  L1045          u0      m0         BIANCA       They do not!\n",
              "1  L1045          u0      m0         BIANCA       They do not!\n",
              "2  L1044          u2      m0        CAMERON        They do to!\n",
              "3  L1044          u2      m0        CAMERON        They do to!\n",
              "4   L985          u0      m0         BIANCA         I hope so."
            ]
          },
          "metadata": {
            "tags": []
          },
          "execution_count": 180
        }
      ]
    },
    {
      "cell_type": "code",
      "metadata": {
        "id": "hqIoqjTjbpd-",
        "colab_type": "code",
        "outputId": "4def0dfa-4d83-42fc-c504-c8aacb5edc0a",
        "colab": {
          "base_uri": "https://localhost:8080/",
          "height": 34
        }
      },
      "source": [
        "data_0.shape"
      ],
      "execution_count": 0,
      "outputs": [
        {
          "output_type": "execute_result",
          "data": {
            "text/plain": [
              "(10802, 5)"
            ]
          },
          "metadata": {
            "tags": []
          },
          "execution_count": 181
        }
      ]
    },
    {
      "cell_type": "code",
      "metadata": {
        "id": "iH2dcq3HbqUc",
        "colab_type": "code",
        "outputId": "f144d412-6b54-4847-d24d-14a429051cb6",
        "colab": {
          "base_uri": "https://localhost:8080/",
          "height": 136
        }
      },
      "source": [
        "ls"
      ],
      "execution_count": 0,
      "outputs": [
        {
          "output_type": "stream",
          "text": [
            "movie_characters_metadata.txt      movie_lines.txt.bak\n",
            "movie_characters_metadata.txt.bak  movie_titles_metadata.csv\n",
            "movie_conversations.csv            movie_titles_metadata.txt\n",
            "movie_conversations.txt            movie_titles_metadata.txt.bak\n",
            "movie_conversations.txt.bak        raw_script_urls.txt\n",
            "movie_lines.csv                    README.txt\n",
            "movie_lines.txt\n"
          ],
          "name": "stdout"
        }
      ]
    },
    {
      "cell_type": "code",
      "metadata": {
        "id": "yCvIyUqcbrgf",
        "colab_type": "code",
        "colab": {}
      },
      "source": [
        ""
      ],
      "execution_count": 0,
      "outputs": []
    }
  ]
}