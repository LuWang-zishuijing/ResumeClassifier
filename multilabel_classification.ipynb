{
 "cells": [
  {
   "cell_type": "markdown",
   "metadata": {},
   "source": [
    "# Multilabel"
   ]
  },
  {
   "cell_type": "markdown",
   "metadata": {},
   "source": [
    "https://towardsdatascience.com/journey-to-the-center-of-multi-label-classification-384c40229bff"
   ]
  },
  {
   "cell_type": "code",
   "execution_count": 1,
   "metadata": {},
   "outputs": [],
   "source": [
    "%matplotlib inline\n",
    "\n",
    "import numpy as np\n",
    "import pandas as pd\n",
    "from pandas import Series, DataFrame\n",
    "import matplotlib.pyplot as plt\n",
    "import scipy.stats as stats\n",
    "\n",
    "# Always make it pretty.\n",
    "plt.style.use('ggplot')"
   ]
  },
  {
   "cell_type": "code",
   "execution_count": 3,
   "metadata": {},
   "outputs": [
    {
     "data": {
      "text/html": [
       "<div>\n",
       "<style scoped>\n",
       "    .dataframe tbody tr th:only-of-type {\n",
       "        vertical-align: middle;\n",
       "    }\n",
       "\n",
       "    .dataframe tbody tr th {\n",
       "        vertical-align: top;\n",
       "    }\n",
       "\n",
       "    .dataframe thead th {\n",
       "        text-align: right;\n",
       "    }\n",
       "</style>\n",
       "<table border=\"1\" class=\"dataframe\">\n",
       "  <thead>\n",
       "    <tr style=\"text-align: right;\">\n",
       "      <th></th>\n",
       "      <th>actor_id</th>\n",
       "      <th>words</th>\n",
       "      <th>id_doc</th>\n",
       "      <th>name</th>\n",
       "      <th>gender</th>\n",
       "      <th>knownForTitles</th>\n",
       "      <th>genres_pro</th>\n",
       "    </tr>\n",
       "  </thead>\n",
       "  <tbody>\n",
       "    <tr>\n",
       "      <th>0</th>\n",
       "      <td>nm0000239</td>\n",
       "      <td>tyler tyler septemb bear rundgren juli york ci...</td>\n",
       "      <td>[729, 729, 633, 5, 609, 387, 769, 166, 769, 59...</td>\n",
       "      <td>Liv Tyler</td>\n",
       "      <td>F</td>\n",
       "      <td>tt0120591,tt0120737,tt0167260,tt0482606</td>\n",
       "      <td>0.0,0.25,0.0,0.0,0.0,0.0,0.16666666666666666,0...</td>\n",
       "    </tr>\n",
       "    <tr>\n",
       "      <th>1</th>\n",
       "      <td>nm3931285</td>\n",
       "      <td>terri moor refer terri moor basebal american m...</td>\n",
       "      <td>[800, 475, 37, 800, 475, 776, 0, 438, 786, 776...</td>\n",
       "      <td>Terry Moore</td>\n",
       "      <td>M</td>\n",
       "      <td>tt0858411</td>\n",
       "      <td>0.0,0.0,0.0,0.0,0.0,0.0,0.0,0.0,0.5,0.0,0.0,0....</td>\n",
       "    </tr>\n",
       "    <tr>\n",
       "      <th>2</th>\n",
       "      <td>nm1483196</td>\n",
       "      <td>jerri ferrara bear novemb brooklyn york occup ...</td>\n",
       "      <td>[840, 829, 5, 496, 809, 769, 501, 772, 768, 59...</td>\n",
       "      <td>Jerry Ferrara</td>\n",
       "      <td>M</td>\n",
       "      <td>tt1204975,tt1621045,tt1674771</td>\n",
       "      <td>0.0,0.0,0.2,0.0,0.0,0.0,0.0,0.0,0.0,0.0,0.0,0....</td>\n",
       "    </tr>\n",
       "    <tr>\n",
       "      <th>3</th>\n",
       "      <td>nm4419771</td>\n",
       "      <td>justin lupe bear denver colorado educ juilliar...</td>\n",
       "      <td>[981, 982, 5, 976, 974, 232, 980, 619, 501, 60...</td>\n",
       "      <td>Justine Lupe</td>\n",
       "      <td>F</td>\n",
       "      <td>tt2347569</td>\n",
       "      <td>0.0,0.0,0.3333333333333333,0.0,0.0,0.0,0.0,0.0...</td>\n",
       "    </tr>\n",
       "    <tr>\n",
       "      <th>4</th>\n",
       "      <td>nm1019674</td>\n",
       "      <td>articl need addit citat verif help improv arti...</td>\n",
       "      <td>[2, 484, 988, 992, 1023, 341, 999, 2, 62, 992,...</td>\n",
       "      <td>Sala Baker</td>\n",
       "      <td>M</td>\n",
       "      <td>tt1515091,tt2072233,tt5001754,tt5463162</td>\n",
       "      <td>0.0,0.18181818181818182,0.0,0.0,0.181818181818...</td>\n",
       "    </tr>\n",
       "  </tbody>\n",
       "</table>\n",
       "</div>"
      ],
      "text/plain": [
       "    actor_id                                              words  \\\n",
       "0  nm0000239  tyler tyler septemb bear rundgren juli york ci...   \n",
       "1  nm3931285  terri moor refer terri moor basebal american m...   \n",
       "2  nm1483196  jerri ferrara bear novemb brooklyn york occup ...   \n",
       "3  nm4419771  justin lupe bear denver colorado educ juilliar...   \n",
       "4  nm1019674  articl need addit citat verif help improv arti...   \n",
       "\n",
       "                                              id_doc           name gender  \\\n",
       "0  [729, 729, 633, 5, 609, 387, 769, 166, 769, 59...      Liv Tyler      F   \n",
       "1  [800, 475, 37, 800, 475, 776, 0, 438, 786, 776...    Terry Moore      M   \n",
       "2  [840, 829, 5, 496, 809, 769, 501, 772, 768, 59...  Jerry Ferrara      M   \n",
       "3  [981, 982, 5, 976, 974, 232, 980, 619, 501, 60...   Justine Lupe      F   \n",
       "4  [2, 484, 988, 992, 1023, 341, 999, 2, 62, 992,...     Sala Baker      M   \n",
       "\n",
       "                            knownForTitles  \\\n",
       "0  tt0120591,tt0120737,tt0167260,tt0482606   \n",
       "1                                tt0858411   \n",
       "2            tt1204975,tt1621045,tt1674771   \n",
       "3                                tt2347569   \n",
       "4  tt1515091,tt2072233,tt5001754,tt5463162   \n",
       "\n",
       "                                          genres_pro  \n",
       "0  0.0,0.25,0.0,0.0,0.0,0.0,0.16666666666666666,0...  \n",
       "1  0.0,0.0,0.0,0.0,0.0,0.0,0.0,0.0,0.5,0.0,0.0,0....  \n",
       "2  0.0,0.0,0.2,0.0,0.0,0.0,0.0,0.0,0.0,0.0,0.0,0....  \n",
       "3  0.0,0.0,0.3333333333333333,0.0,0.0,0.0,0.0,0.0...  \n",
       "4  0.0,0.18181818181818182,0.0,0.0,0.181818181818...  "
      ]
     },
     "execution_count": 3,
     "metadata": {},
     "output_type": "execute_result"
    }
   ],
   "source": [
    "multilabel = pd.read_csv('genres_labeled_6405.csv')\n",
    "multilabel.head()"
   ]
  },
  {
   "cell_type": "code",
   "execution_count": null,
   "metadata": {},
   "outputs": [],
   "source": [
    "# genres_pro\n",
    "# ['Adult', 'Adventure', 'Romance', 'History', 'Crime',\n",
    "#        'Western', 'Fantasy', 'Documentary', 'Horror', 'Mystery', 'Reality-TV',\n",
    "#        'Talk-Show', 'Sci-Fi', 'Thriller', 'News', 'Action', 'War', 'Animation',\n",
    "#        'Short', 'Game-Show', 'Comedy', 'Biography', 'Sport', 'Musical',\n",
    "#        'Music', 'Family', 'Drama', 'Film-Noir']"
   ]
  },
  {
   "cell_type": "code",
   "execution_count": null,
   "metadata": {},
   "outputs": [],
   "source": [
    "multilabel = 'genres_labeled_6405.csv'"
   ]
  },
  {
   "cell_type": "code",
   "execution_count": null,
   "metadata": {},
   "outputs": [],
   "source": []
  },
  {
   "cell_type": "code",
   "execution_count": null,
   "metadata": {},
   "outputs": [],
   "source": []
  },
  {
   "cell_type": "code",
   "execution_count": null,
   "metadata": {},
   "outputs": [],
   "source": []
  },
  {
   "cell_type": "code",
   "execution_count": null,
   "metadata": {},
   "outputs": [],
   "source": []
  },
  {
   "cell_type": "code",
   "execution_count": null,
   "metadata": {},
   "outputs": [],
   "source": [
    "actors_vs_8743_lables_v2_6405.gender.value_counts()"
   ]
  },
  {
   "cell_type": "code",
   "execution_count": null,
   "metadata": {},
   "outputs": [],
   "source": []
  },
  {
   "cell_type": "code",
   "execution_count": null,
   "metadata": {},
   "outputs": [],
   "source": []
  }
 ],
 "metadata": {
  "kernelspec": {
   "display_name": "Python 3",
   "language": "python",
   "name": "python3"
  },
  "language_info": {
   "codemirror_mode": {
    "name": "ipython",
    "version": 3
   },
   "file_extension": ".py",
   "mimetype": "text/x-python",
   "name": "python",
   "nbconvert_exporter": "python",
   "pygments_lexer": "ipython3",
   "version": "3.7.3"
  }
 },
 "nbformat": 4,
 "nbformat_minor": 2
}
