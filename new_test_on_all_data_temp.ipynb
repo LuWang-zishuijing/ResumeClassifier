{
 "cells": [
  {
   "cell_type": "code",
   "execution_count": 8,
   "metadata": {},
   "outputs": [],
   "source": [
    "import pandas as pd\n",
    "from load_data import load_data"
   ]
  },
  {
   "cell_type": "code",
   "execution_count": 9,
   "metadata": {},
   "outputs": [
    {
     "data": {
      "text/html": [
       "<div>\n",
       "<style scoped>\n",
       "    .dataframe tbody tr th:only-of-type {\n",
       "        vertical-align: middle;\n",
       "    }\n",
       "\n",
       "    .dataframe tbody tr th {\n",
       "        vertical-align: top;\n",
       "    }\n",
       "\n",
       "    .dataframe thead th {\n",
       "        text-align: right;\n",
       "    }\n",
       "</style>\n",
       "<table border=\"1\" class=\"dataframe\">\n",
       "  <thead>\n",
       "    <tr style=\"text-align: right;\">\n",
       "      <th></th>\n",
       "      <th>actor_id</th>\n",
       "      <th>actor_name</th>\n",
       "      <th>words</th>\n",
       "    </tr>\n",
       "  </thead>\n",
       "  <tbody>\n",
       "    <tr>\n",
       "      <th>0</th>\n",
       "      <td>nm0005211</td>\n",
       "      <td>Danica McKellar</td>\n",
       "      <td>danica Mc kellar Mc kellar 2018 u. nation book...</td>\n",
       "    </tr>\n",
       "    <tr>\n",
       "      <th>1</th>\n",
       "      <td>nm0005576</td>\n",
       "      <td>Drea de Matteo</td>\n",
       "      <td>drea de matteo De matteo 2005 born andrea donn...</td>\n",
       "    </tr>\n",
       "    <tr>\n",
       "      <th>2</th>\n",
       "      <td>nm0011589</td>\n",
       "      <td>Amanda Aday</td>\n",
       "      <td>amanda aday born amanda lee aday 1981-01-21 ja...</td>\n",
       "    </tr>\n",
       "    <tr>\n",
       "      <th>3</th>\n",
       "      <td>nm0028846</td>\n",
       "      <td>Shawn Andrews</td>\n",
       "      <td>american footbal guard tackl actor see shawn a...</td>\n",
       "    </tr>\n",
       "    <tr>\n",
       "      <th>4</th>\n",
       "      <td>nm0036571</td>\n",
       "      <td>Monica</td>\n",
       "      <td>look monica monica wiktionari free dictionari ...</td>\n",
       "    </tr>\n",
       "  </tbody>\n",
       "</table>\n",
       "</div>"
      ],
      "text/plain": [
       "    actor_id       actor_name  \\\n",
       "0  nm0005211  Danica McKellar   \n",
       "1  nm0005576   Drea de Matteo   \n",
       "2  nm0011589      Amanda Aday   \n",
       "3  nm0028846    Shawn Andrews   \n",
       "4  nm0036571           Monica   \n",
       "\n",
       "                                               words  \n",
       "0  danica Mc kellar Mc kellar 2018 u. nation book...  \n",
       "1  drea de matteo De matteo 2005 born andrea donn...  \n",
       "2  amanda aday born amanda lee aday 1981-01-21 ja...  \n",
       "3  american footbal guard tackl actor see shawn a...  \n",
       "4  look monica monica wiktionari free dictionari ...  "
      ]
     },
     "execution_count": 9,
     "metadata": {},
     "output_type": "execute_result"
    }
   ],
   "source": [
    "data1_path = \"./c/actor_words.csv\"\n",
    "data2_path = \"./actors_70s.csv\"\n",
    "new_all_data = load_data(data1_path, data2_path)\n",
    "new_all_data.head()"
   ]
  },
  {
   "cell_type": "code",
   "execution_count": 10,
   "metadata": {},
   "outputs": [
    {
     "data": {
      "text/plain": [
       "(8743, 3)"
      ]
     },
     "execution_count": 10,
     "metadata": {},
     "output_type": "execute_result"
    }
   ],
   "source": [
    "new_all_data.shape"
   ]
  },
  {
   "cell_type": "code",
   "execution_count": null,
   "metadata": {},
   "outputs": [],
   "source": []
  }
 ],
 "metadata": {
  "kernelspec": {
   "display_name": "Python 3",
   "language": "python",
   "name": "python3"
  },
  "language_info": {
   "codemirror_mode": {
    "name": "ipython",
    "version": 3
   },
   "file_extension": ".py",
   "mimetype": "text/x-python",
   "name": "python",
   "nbconvert_exporter": "python",
   "pygments_lexer": "ipython3",
   "version": "3.7.3"
  }
 },
 "nbformat": 4,
 "nbformat_minor": 2
}
