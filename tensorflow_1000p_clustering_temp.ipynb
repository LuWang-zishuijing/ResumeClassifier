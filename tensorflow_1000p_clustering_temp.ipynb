{
  "nbformat": 4,
  "nbformat_minor": 0,
  "metadata": {
    "kernelspec": {
      "name": "python3",
      "display_name": "Python 3"
    },
    "language_info": {
      "codemirror_mode": {
        "name": "ipython",
        "version": 3
      },
      "file_extension": ".py",
      "mimetype": "text/x-python",
      "name": "python",
      "nbconvert_exporter": "python",
      "pygments_lexer": "ipython3",
      "version": "3.7.3"
    },
    "colab": {
      "name": "tensorflow_1000p_clustering_temp.ipynb",
      "version": "0.3.2",
      "provenance": [],
      "collapsed_sections": [],
      "machine_shape": "hm"
    },
    "accelerator": "GPU"
  },
  "cells": [
    {
      "cell_type": "code",
      "metadata": {
        "id": "IUkiNQ2sPufr",
        "colab_type": "code",
        "colab": {
          "base_uri": "https://localhost:8080/",
          "height": 53
        },
        "outputId": "f341e783-3ee6-441b-f7e5-ea3adc9ddee5"
      },
      "source": [
        "import tensorflow as tf\n",
        "import tensorflow_hub as hub\n",
        "import matplotlib.pyplot as plt\n",
        "import numpy as np\n",
        "import os\n",
        "import pandas as pd\n",
        "import re\n",
        "import seaborn as sns\n",
        "\n",
        "import nltk.data\n",
        "nltk.download(\"punkt\")\n",
        "\n",
        "from urllib.request import urlopen\n",
        "from sklearn.metrics.pairwise import cosine_similarity\n",
        "\n",
        "%config InlineBackend.figure_format = 'retina'\n",
        "from matplotlib import pyplot as plt"
      ],
      "execution_count": 2,
      "outputs": [
        {
          "output_type": "stream",
          "text": [
            "[nltk_data] Downloading package punkt to /root/nltk_data...\n",
            "[nltk_data]   Unzipping tokenizers/punkt.zip.\n"
          ],
          "name": "stdout"
        }
      ]
    },
    {
      "cell_type": "code",
      "metadata": {
        "id": "39MLWUZLPufz",
        "colab_type": "code",
        "colab": {}
      },
      "source": [
        "# We can simply use a pre-trained TensorFLow model downloaded from TensorHub:\n",
        "# Import the Universal Sentence Encoder's TF Hub module\n",
        "module_url = \"https://tfhub.dev/google/universal-sentence-encoder/2\" #@param [\"https://tfhub.dev/google/universal-sentence-encoder/2\", \"https://tfhub.dev/google/universal-sentence-encoder-large/3\"]\n",
        "embed = hub.Module(module_url)"
      ],
      "execution_count": 0,
      "outputs": []
    },
    {
      "cell_type": "code",
      "metadata": {
        "id": "kOUugFaoPxcD",
        "colab_type": "code",
        "colab": {
          "resources": {
            "http://localhost:8080/nbextensions/google.colab/files.js": {
              "data": "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",
              "ok": true,
              "headers": [
                [
                  "content-type",
                  "application/javascript"
                ]
              ],
              "status": 200,
              "status_text": ""
            }
          },
          "base_uri": "https://localhost:8080/",
          "height": 75
        },
        "outputId": "1762ce82-7d4d-4d44-e89a-9555696e8c6e"
      },
      "source": [
        "from google.colab import files\n",
        "\n",
        "uploaded = files.upload()"
      ],
      "execution_count": 8,
      "outputs": [
        {
          "output_type": "display_data",
          "data": {
            "text/html": [
              "\n",
              "     <input type=\"file\" id=\"files-8f58ac1e-a798-4270-905d-e30366302b44\" name=\"files[]\" multiple disabled />\n",
              "     <output id=\"result-8f58ac1e-a798-4270-905d-e30366302b44\">\n",
              "      Upload widget is only available when the cell has been executed in the\n",
              "      current browser session. Please rerun this cell to enable.\n",
              "      </output>\n",
              "      <script src=\"/nbextensions/google.colab/files.js\"></script> "
            ],
            "text/plain": [
              "<IPython.core.display.HTML object>"
            ]
          },
          "metadata": {
            "tags": []
          }
        },
        {
          "output_type": "stream",
          "text": [
            "Saving df_1000p_words_index.csv to df_1000p_words_index.csv\n"
          ],
          "name": "stdout"
        }
      ]
    },
    {
      "cell_type": "code",
      "metadata": {
        "id": "cGsUwdAvRVp6",
        "colab_type": "code",
        "colab": {
          "base_uri": "https://localhost:8080/",
          "height": 35
        },
        "outputId": "89f07988-c55c-4095-9b32-e1796cc84a7f"
      },
      "source": [
        "ls"
      ],
      "execution_count": 10,
      "outputs": [
        {
          "output_type": "stream",
          "text": [
            "df_1000p_words_index.csv  \u001b[0m\u001b[01;34msample_data\u001b[0m/\n"
          ],
          "name": "stdout"
        }
      ]
    },
    {
      "cell_type": "code",
      "metadata": {
        "id": "88_r2xFxPuf3",
        "colab_type": "code",
        "colab": {
          "base_uri": "https://localhost:8080/",
          "height": 204
        },
        "outputId": "5b9ec472-371b-4d4e-b4ef-cf8d03ceabec"
      },
      "source": [
        "df_1000p_words = pd.read_csv(\"df_1000p_words_index.csv\")\n",
        "df_1000p_words.head()"
      ],
      "execution_count": 11,
      "outputs": [
        {
          "output_type": "execute_result",
          "data": {
            "text/html": [
              "<div>\n",
              "<style scoped>\n",
              "    .dataframe tbody tr th:only-of-type {\n",
              "        vertical-align: middle;\n",
              "    }\n",
              "\n",
              "    .dataframe tbody tr th {\n",
              "        vertical-align: top;\n",
              "    }\n",
              "\n",
              "    .dataframe thead th {\n",
              "        text-align: right;\n",
              "    }\n",
              "</style>\n",
              "<table border=\"1\" class=\"dataframe\">\n",
              "  <thead>\n",
              "    <tr style=\"text-align: right;\">\n",
              "      <th></th>\n",
              "      <th>actor_id</th>\n",
              "      <th>actor_name</th>\n",
              "      <th>words</th>\n",
              "      <th>words_index</th>\n",
              "    </tr>\n",
              "  </thead>\n",
              "  <tbody>\n",
              "    <tr>\n",
              "      <th>0</th>\n",
              "      <td>nm0005211</td>\n",
              "      <td>Danica McKellar</td>\n",
              "      <td>danica mckellarmckellar 2018u. . nation book f...</td>\n",
              "      <td>[3759, 2074, 6972, 16428, 8561, 15525, 18641, ...</td>\n",
              "    </tr>\n",
              "    <tr>\n",
              "      <th>1</th>\n",
              "      <td>nm0005576</td>\n",
              "      <td>Drea de Matteo</td>\n",
              "      <td>drea de matteod matteo 2005bornandrea donna de...</td>\n",
              "      <td>[334, 334, 6972, 1401, 18732, 15525, 5545, 179...</td>\n",
              "    </tr>\n",
              "    <tr>\n",
              "      <th>2</th>\n",
              "      <td>nm0028846</td>\n",
              "      <td>Shawn Andrews</td>\n",
              "      <td>american footbal guard tackl actor , see shawn...</td>\n",
              "      <td>[16144, 5693, 1291, 14329, 15044, 9403, 4235, ...</td>\n",
              "    </tr>\n",
              "    <tr>\n",
              "      <th>3</th>\n",
              "      <td>nm0036571</td>\n",
              "      <td>Monica</td>\n",
              "      <td>look monica monica wiktionari , free dictionar...</td>\n",
              "      <td>[19323, 13774, 13774, 2359, 13774, 4500, 14745...</td>\n",
              "    </tr>\n",
              "    <tr>\n",
              "      <th>4</th>\n",
              "      <td>nm0038875</td>\n",
              "      <td>John Asher</td>\n",
              "      <td>thi biographi live person need addit citat ver...</td>\n",
              "      <td>[15599, 13821, 660, 2746, 11661, 15058, 11742,...</td>\n",
              "    </tr>\n",
              "  </tbody>\n",
              "</table>\n",
              "</div>"
            ],
            "text/plain": [
              "    actor_id  ...                                        words_index\n",
              "0  nm0005211  ...  [3759, 2074, 6972, 16428, 8561, 15525, 18641, ...\n",
              "1  nm0005576  ...  [334, 334, 6972, 1401, 18732, 15525, 5545, 179...\n",
              "2  nm0028846  ...  [16144, 5693, 1291, 14329, 15044, 9403, 4235, ...\n",
              "3  nm0036571  ...  [19323, 13774, 13774, 2359, 13774, 4500, 14745...\n",
              "4  nm0038875  ...  [15599, 13821, 660, 2746, 11661, 15058, 11742,...\n",
              "\n",
              "[5 rows x 4 columns]"
            ]
          },
          "metadata": {
            "tags": []
          },
          "execution_count": 11
        }
      ]
    },
    {
      "cell_type": "code",
      "metadata": {
        "id": "dCi5GMhXPuf7",
        "colab_type": "code",
        "colab": {}
      },
      "source": [
        "# Use the \"punkt\" sentence tokenizers to chop the words up into sentences.\n",
        "\n",
        "tokenizer = nltk.data.load('tokenizers/punkt/english.pickle')"
      ],
      "execution_count": 0,
      "outputs": []
    },
    {
      "cell_type": "code",
      "metadata": {
        "id": "_Crsa-bSPuf-",
        "colab_type": "code",
        "colab": {}
      },
      "source": [
        "temp_df = df_1000p_words.copy()\n",
        "\n",
        "temp_df['words_to_sentences'] = temp_df['words']\n",
        "\n",
        "for row in range(temp_df.shape[0]):\n",
        "    temp_df['words_to_sentences'][row] = tokenizer.tokenize(temp_df['words_to_sentences'][row])"
      ],
      "execution_count": 0,
      "outputs": []
    },
    {
      "cell_type": "code",
      "metadata": {
        "id": "8sHBdasjPugB",
        "colab_type": "code",
        "colab": {}
      },
      "source": [
        "# print(temp_df.words_to_sentences[0])"
      ],
      "execution_count": 0,
      "outputs": []
    },
    {
      "cell_type": "code",
      "metadata": {
        "id": "oNpATvVIPugF",
        "colab_type": "code",
        "colab": {}
      },
      "source": [
        "all_words_to_sentences = temp_df.words_to_sentences.values"
      ],
      "execution_count": 0,
      "outputs": []
    },
    {
      "cell_type": "code",
      "metadata": {
        "id": "6Zc-gPHXaFud",
        "colab_type": "code",
        "colab": {
          "base_uri": "https://localhost:8080/",
          "height": 35
        },
        "outputId": "2278d0ef-8e4b-4f49-d0c9-eb87277c5ade"
      },
      "source": [
        "temp_df.shape[0]"
      ],
      "execution_count": 15,
      "outputs": [
        {
          "output_type": "execute_result",
          "data": {
            "text/plain": [
              "1000"
            ]
          },
          "metadata": {
            "tags": []
          },
          "execution_count": 15
        }
      ]
    },
    {
      "cell_type": "code",
      "metadata": {
        "id": "62K8v8Y1R-hC",
        "colab_type": "code",
        "colab": {
          "base_uri": "https://localhost:8080/",
          "height": 377
        },
        "outputId": "e42571e2-d449-415e-d6a0-6240e729ea72"
      },
      "source": [
        "\n",
        "try_df = temp_df.copy()\n",
        "\n",
        "temp_df['pp_embeddings'] = temp_df['words_to_sentences']\n",
        "\n",
        "# for row in range(temp_df.shape[0]):\n",
        "for row in range(20):\n",
        "  \n",
        "  words_to_sentences = temp_df.pp_embeddings[row]\n",
        "  \n",
        "  with tf.Session() as session:\n",
        "    session.run([tf.global_variables_initializer(), tf.tables_initializer()])\n",
        "    pp_embeddings = session.run(embed(words_to_sentences))\n",
        "\n",
        "  temp_df['pp_embeddings'][row] = pp_embeddings\n",
        "  print(f'no. {row} row')\n",
        "#   print(temp_df['pp_embeddings'][0])\n",
        "#   break\n"
      ],
      "execution_count": 19,
      "outputs": [
        {
          "output_type": "stream",
          "text": [
            "no. 0 row\n",
            "no. 1 row\n",
            "no. 2 row\n",
            "no. 3 row\n",
            "no. 4 row\n",
            "no. 5 row\n",
            "no. 6 row\n",
            "no. 7 row\n",
            "no. 8 row\n",
            "no. 9 row\n",
            "no. 10 row\n",
            "no. 11 row\n",
            "no. 12 row\n",
            "no. 13 row\n",
            "no. 14 row\n",
            "no. 15 row\n",
            "no. 16 row\n",
            "no. 17 row\n",
            "no. 18 row\n",
            "no. 19 row\n"
          ],
          "name": "stdout"
        }
      ]
    },
    {
      "cell_type": "code",
      "metadata": {
        "id": "eC3aB0UhPugK",
        "colab_type": "code",
        "colab": {
          "base_uri": "https://localhost:8080/",
          "height": 395
        },
        "outputId": "2154166b-278e-40a4-815c-f0107596807b"
      },
      "source": [
        "pp_embeddings_first_20 = temp_df['pp_embeddings'][:20]\n",
        "pp_embeddings_first_20"
      ],
      "execution_count": 20,
      "outputs": [
        {
          "output_type": "execute_result",
          "data": {
            "text/plain": [
              "0     [[-0.047156405, 0.01899436, -0.034690164, -0.0...\n",
              "1     [[0.043562658, 0.024041314, 0.049323823, 0.038...\n",
              "2     [[0.065747365, -0.0075457455, -0.029403334, -0...\n",
              "3     [[-0.018294502, 0.076964654, -0.012073838, 0.0...\n",
              "4     [[0.012597141, -0.0020498405, -0.025142815, 0....\n",
              "5     [[0.0609566, -0.02406519, 0.043375194, -0.0424...\n",
              "6     [[-0.026972977, 0.044380806, 0.048289392, -0.0...\n",
              "7     [[0.029027678, 0.022584343, 0.044650145, -0.04...\n",
              "8     [[0.0003151019, 0.029980876, 0.051650416, 0.01...\n",
              "9     [[0.04215754, 0.01368538, 0.056755528, -0.0424...\n",
              "10    [[-0.0043760464, -0.026603213, 0.03966429, -0....\n",
              "11    [[0.043173023, -0.012538917, 0.0020946339, 0.0...\n",
              "12    [[0.07238706, -0.057789836, -0.016509831, 0.02...\n",
              "13    [[0.058613412, -0.0013973314, 0.04147741, 0.00...\n",
              "14    [[0.06926686, 0.03582366, -0.024751429, 0.0252...\n",
              "15    [[0.008924246, 0.024368098, 0.055778094, -0.03...\n",
              "16    [[0.0577102, 0.0044752206, 0.06213377, -0.0256...\n",
              "17    [[-0.022661056, -0.041508965, -0.051653486, -0...\n",
              "18    [[0.05231068, -0.029816935, 0.014041528, -0.05...\n",
              "19    [[0.036306467, -0.048340812, -0.041071802, -0....\n",
              "Name: pp_embeddings, dtype: object"
            ]
          },
          "metadata": {
            "tags": []
          },
          "execution_count": 20
        }
      ]
    },
    {
      "cell_type": "code",
      "metadata": {
        "id": "YyKfzd4IqSYN",
        "colab_type": "code",
        "colab": {
          "base_uri": "https://localhost:8080/",
          "height": 35
        },
        "outputId": "a56d9545-ab17-4b72-fba8-819a701fafe1"
      },
      "source": [
        "type(pp_embeddings_first_20)"
      ],
      "execution_count": 23,
      "outputs": [
        {
          "output_type": "execute_result",
          "data": {
            "text/plain": [
              "pandas.core.series.Series"
            ]
          },
          "metadata": {
            "tags": []
          },
          "execution_count": 23
        }
      ]
    },
    {
      "cell_type": "code",
      "metadata": {
        "id": "VQ5avKGoPugO",
        "colab_type": "code",
        "colab": {}
      },
      "source": [
        "# similarity = cosine_similarity( pp_embeddings_first_20.values )\n",
        "\n",
        "# fig, ax = plt.subplots(figsize=(10,8))\n",
        "\n",
        "# sns.heatmap(similarity[0:1000,0:1000], ax=ax)\n",
        "# ax.set_title(\"Cosine similarity of first 1000 sentences in Pride and Prejudice\")"
      ],
      "execution_count": 0,
      "outputs": []
    },
    {
      "cell_type": "code",
      "metadata": {
        "id": "BZS7qvlTPugR",
        "colab_type": "code",
        "colab": {}
      },
      "source": [
        ""
      ],
      "execution_count": 0,
      "outputs": []
    },
    {
      "cell_type": "markdown",
      "metadata": {
        "id": "VtqrHW5pPugU",
        "colab_type": "text"
      },
      "source": [
        "# clustering using sentence embeddings"
      ]
    },
    {
      "cell_type": "markdown",
      "metadata": {
        "id": "-zvhUwgtPugV",
        "colab_type": "text"
      },
      "source": [
        "* Clustering sentences using contextual sentence embeddings, t-sne, and agglomerative clustering."
      ]
    },
    {
      "cell_type": "code",
      "metadata": {
        "id": "Jgeq1349PugW",
        "colab_type": "code",
        "colab": {}
      },
      "source": [
        "from sklearn.manifold import TSNE"
      ],
      "execution_count": 0,
      "outputs": []
    },
    {
      "cell_type": "code",
      "metadata": {
        "id": "WFJfHmrrPugZ",
        "colab_type": "code",
        "colab": {}
      },
      "source": [
        "tsne = TSNE(verbose=5)"
      ],
      "execution_count": 0,
      "outputs": []
    },
    {
      "cell_type": "code",
      "metadata": {
        "id": "1FDuuZmbssdW",
        "colab_type": "code",
        "colab": {
          "base_uri": "https://localhost:8080/",
          "height": 35
        },
        "outputId": "1feb83de-88a1-426b-91b7-fb695763e461"
      },
      "source": [
        "pp_embeddings_first_20[0].shape, pp_embeddings_first_20[1].shape, pp_embeddings_first_20[2].shape"
      ],
      "execution_count": 39,
      "outputs": [
        {
          "output_type": "execute_result",
          "data": {
            "text/plain": [
              "((361, 512), (24, 512), (408, 512))"
            ]
          },
          "metadata": {
            "tags": []
          },
          "execution_count": 39
        }
      ]
    },
    {
      "cell_type": "code",
      "metadata": {
        "id": "vdeKsr4GtFyM",
        "colab_type": "code",
        "colab": {}
      },
      "source": [
        "from sklearn.cluster import AgglomerativeClustering"
      ],
      "execution_count": 0,
      "outputs": []
    },
    {
      "cell_type": "code",
      "metadata": {
        "id": "D6N84Tw0Pugd",
        "colab_type": "code",
        "colab": {
          "base_uri": "https://localhost:8080/",
          "height": 1000
        },
        "outputId": "70b0a4b6-84b5-4eaf-c102-4f1c91ba30f0"
      },
      "source": [
        "squish_0 = tsne.fit_transform(pp_embeddings_first_20[0])\n",
        "\n",
        "clusterer = AgglomerativeClustering(n_clusters=5, linkage=\"ward\")\n",
        "\n",
        "cluster = clusterer.fit_predict( squish_0 )\n",
        "\n",
        "fig, ax = plt.subplots(figsize=(8,8))\n",
        "ax.scatter( *squish_0.T, s=1.0, c=cluster )"
      ],
      "execution_count": 49,
      "outputs": [
        {
          "output_type": "stream",
          "text": [
            "[t-SNE] Computing 91 nearest neighbors...\n",
            "[t-SNE] Indexed 361 samples in 0.004s...\n",
            "[t-SNE] Computed neighbors for 361 samples in 0.127s...\n",
            "[t-SNE] Computed conditional probabilities for sample 361 / 361\n",
            "[t-SNE] Mean sigma: 0.000000\n",
            "[t-SNE] Computed conditional probabilities in 0.064s\n",
            "[t-SNE] Iteration 50: error = 43.9719810, gradient norm = 0.5329259 (50 iterations in 0.092s)\n",
            "[t-SNE] Iteration 100: error = 41.4286919, gradient norm = 0.5372398 (50 iterations in 0.087s)\n",
            "[t-SNE] Iteration 150: error = 40.7914429, gradient norm = 0.5169896 (50 iterations in 0.080s)\n",
            "[t-SNE] Iteration 200: error = 40.9134674, gradient norm = 0.5292195 (50 iterations in 0.087s)\n",
            "[t-SNE] Iteration 250: error = 39.3714714, gradient norm = 0.5246095 (50 iterations in 0.077s)\n",
            "[t-SNE] KL divergence after 250 iterations with early exaggeration: 39.371471\n",
            "[t-SNE] Iteration 300: error = 0.0438523, gradient norm = 0.0021865 (50 iterations in 0.062s)\n",
            "[t-SNE] Iteration 350: error = 0.0216304, gradient norm = 0.0001395 (50 iterations in 0.061s)\n",
            "[t-SNE] Iteration 400: error = 0.0132269, gradient norm = 0.0000692 (50 iterations in 0.066s)\n",
            "[t-SNE] Iteration 450: error = 0.0093276, gradient norm = 0.0000436 (50 iterations in 0.068s)\n",
            "[t-SNE] Iteration 500: error = 0.0073742, gradient norm = 0.0000318 (50 iterations in 0.067s)\n",
            "[t-SNE] Iteration 550: error = 0.0059056, gradient norm = 0.0000228 (50 iterations in 0.069s)\n",
            "[t-SNE] Iteration 600: error = 0.0051393, gradient norm = 0.0000191 (50 iterations in 0.071s)\n",
            "[t-SNE] Iteration 650: error = 0.0044694, gradient norm = 0.0000157 (50 iterations in 0.072s)\n",
            "[t-SNE] Iteration 700: error = 0.0038186, gradient norm = 0.0000161 (50 iterations in 0.072s)\n",
            "[t-SNE] Iteration 750: error = 0.0035566, gradient norm = 0.0000093 (50 iterations in 0.071s)\n",
            "[t-SNE] Iteration 800: error = 0.0032285, gradient norm = 0.0000083 (50 iterations in 0.071s)\n",
            "[t-SNE] Iteration 850: error = 0.0029571, gradient norm = 0.0000093 (50 iterations in 0.072s)\n",
            "[t-SNE] Iteration 900: error = 0.0027312, gradient norm = 0.0000071 (50 iterations in 0.067s)\n",
            "[t-SNE] Iteration 950: error = 0.0025381, gradient norm = 0.0000063 (50 iterations in 0.065s)\n",
            "[t-SNE] Iteration 1000: error = 0.0023723, gradient norm = 0.0000066 (50 iterations in 0.066s)\n",
            "[t-SNE] KL divergence after 1000 iterations: 0.002372\n"
          ],
          "name": "stdout"
        },
        {
          "output_type": "execute_result",
          "data": {
            "text/plain": [
              "<matplotlib.collections.PathCollection at 0x7f457cfed9e8>"
            ]
          },
          "metadata": {
            "tags": []
          },
          "execution_count": 49
        },
        {
          "output_type": "display_data",
          "data": {
            "image/png": "[encoded data removed]",
            "text/plain": [
              "<Figure size 576x576 with 1 Axes>"
            ]
          },
          "metadata": {
            "tags": [],
            "image/png": {
              "width": 490,
              "height": 467
            }
          }
        }
      ]
    },
    {
      "cell_type": "code",
      "metadata": {
        "id": "XTvR75bsPugj",
        "colab_type": "code",
        "colab": {
          "base_uri": "https://localhost:8080/",
          "height": 1000
        },
        "outputId": "9919b5c2-6bba-4a9f-a780-b6d5ea0008f4"
      },
      "source": [
        "squish_1 = tsne.fit_transform(pp_embeddings_first_20[1])\n",
        "\n",
        "clusterer = AgglomerativeClustering(n_clusters=5, linkage=\"ward\")\n",
        "\n",
        "cluster = clusterer.fit_predict( squish_1 )\n",
        "\n",
        "fig, ax = plt.subplots(figsize=(8,8))\n",
        "ax.scatter( *squish_1.T, s=1.0, c=cluster )"
      ],
      "execution_count": 52,
      "outputs": [
        {
          "output_type": "stream",
          "text": [
            "[t-SNE] Computing 23 nearest neighbors...\n",
            "[t-SNE] Indexed 24 samples in 0.000s...\n",
            "[t-SNE] Computed neighbors for 24 samples in 0.002s...\n",
            "[t-SNE] Computed conditional probabilities for sample 24 / 24\n",
            "[t-SNE] Mean sigma: 1125899906842624.000000\n",
            "[t-SNE] Computed conditional probabilities in 0.003s\n",
            "[t-SNE] Iteration 50: error = 46.5760384, gradient norm = 0.5769849 (50 iterations in 0.010s)\n",
            "[t-SNE] Iteration 100: error = 44.0122070, gradient norm = 0.6386795 (50 iterations in 0.009s)\n",
            "[t-SNE] Iteration 150: error = 47.4125290, gradient norm = 0.5300064 (50 iterations in 0.010s)\n",
            "[t-SNE] Iteration 200: error = 42.7490921, gradient norm = 0.3980464 (50 iterations in 0.010s)\n",
            "[t-SNE] Iteration 250: error = 42.7226830, gradient norm = 0.5572729 (50 iterations in 0.010s)\n",
            "[t-SNE] KL divergence after 250 iterations with early exaggeration: 42.722683\n",
            "[t-SNE] Iteration 300: error = 0.4943349, gradient norm = 0.0008537 (50 iterations in 0.010s)\n",
            "[t-SNE] Iteration 350: error = 0.4536883, gradient norm = 0.0001523 (50 iterations in 0.009s)\n",
            "[t-SNE] Iteration 400: error = 0.4505309, gradient norm = 0.0000592 (50 iterations in 0.009s)\n",
            "[t-SNE] Iteration 450: error = 0.4493431, gradient norm = 0.0000432 (50 iterations in 0.009s)\n",
            "[t-SNE] Iteration 500: error = 0.4492854, gradient norm = 0.0000634 (50 iterations in 0.009s)\n",
            "[t-SNE] Iteration 550: error = 0.4468061, gradient norm = 0.0000478 (50 iterations in 0.009s)\n",
            "[t-SNE] Iteration 600: error = 0.4450203, gradient norm = 0.0000417 (50 iterations in 0.010s)\n",
            "[t-SNE] Iteration 650: error = 0.4448404, gradient norm = 0.0000429 (50 iterations in 0.009s)\n",
            "[t-SNE] Iteration 700: error = 0.4447608, gradient norm = 0.0000459 (50 iterations in 0.008s)\n",
            "[t-SNE] Iteration 750: error = 0.4449160, gradient norm = 0.0000568 (50 iterations in 0.009s)\n",
            "[t-SNE] Iteration 800: error = 0.4447454, gradient norm = 0.0000783 (50 iterations in 0.008s)\n",
            "[t-SNE] Iteration 850: error = 0.4440481, gradient norm = 0.0001446 (50 iterations in 0.009s)\n",
            "[t-SNE] Iteration 900: error = 0.4403283, gradient norm = 0.0013614 (50 iterations in 0.009s)\n",
            "[t-SNE] Iteration 950: error = 0.6823514, gradient norm = 0.0018077 (50 iterations in 0.009s)\n",
            "[t-SNE] Iteration 1000: error = 0.5177526, gradient norm = 0.0004840 (50 iterations in 0.009s)\n",
            "[t-SNE] KL divergence after 1000 iterations: 0.517753\n"
          ],
          "name": "stdout"
        },
        {
          "output_type": "execute_result",
          "data": {
            "text/plain": [
              "<matplotlib.collections.PathCollection at 0x7f45e4bd8630>"
            ]
          },
          "metadata": {
            "tags": []
          },
          "execution_count": 52
        },
        {
          "output_type": "display_data",
          "data": {
            "image/png": "[encoded data removed]",
            "text/plain": [
              "<Figure size 576x576 with 1 Axes>"
            ]
          },
          "metadata": {
            "tags": [],
            "image/png": {
              "width": 499,
              "height": 467
            }
          }
        }
      ]
    },
    {
      "cell_type": "code",
      "metadata": {
        "id": "PkcQQlQDPugn",
        "colab_type": "code",
        "colab": {
          "base_uri": "https://localhost:8080/",
          "height": 1000
        },
        "outputId": "ccc2d406-2adf-44fe-f8e0-c43268ce7afd"
      },
      "source": [
        "squish_2 = tsne.fit_transform(pp_embeddings_first_20[2])\n",
        "\n",
        "clusterer = AgglomerativeClustering(n_clusters=5, linkage=\"ward\")\n",
        "\n",
        "cluster = clusterer.fit_predict( squish_2 )\n",
        "\n",
        "fig, ax = plt.subplots(figsize=(8,8))\n",
        "ax.scatter( *squish_2.T, s=1.0, c=cluster )"
      ],
      "execution_count": 53,
      "outputs": [
        {
          "output_type": "stream",
          "text": [
            "[t-SNE] Computing 91 nearest neighbors...\n",
            "[t-SNE] Indexed 408 samples in 0.004s...\n",
            "[t-SNE] Computed neighbors for 408 samples in 0.129s...\n",
            "[t-SNE] Computed conditional probabilities for sample 408 / 408\n",
            "[t-SNE] Mean sigma: 0.000000\n",
            "[t-SNE] Computed conditional probabilities in 0.065s\n",
            "[t-SNE] Iteration 50: error = 41.1666946, gradient norm = 0.5094502 (50 iterations in 0.111s)\n",
            "[t-SNE] Iteration 100: error = 41.1670380, gradient norm = 0.4914663 (50 iterations in 0.106s)\n",
            "[t-SNE] Iteration 150: error = 38.8947792, gradient norm = 0.4963217 (50 iterations in 0.108s)\n",
            "[t-SNE] Iteration 200: error = 38.1452026, gradient norm = 0.5088148 (50 iterations in 0.095s)\n",
            "[t-SNE] Iteration 250: error = 37.6013184, gradient norm = 0.5177261 (50 iterations in 0.094s)\n",
            "[t-SNE] KL divergence after 250 iterations with early exaggeration: 37.601318\n",
            "[t-SNE] Iteration 300: error = 0.0347790, gradient norm = 0.0012760 (50 iterations in 0.087s)\n",
            "[t-SNE] Iteration 350: error = 0.0170277, gradient norm = 0.0001312 (50 iterations in 0.081s)\n",
            "[t-SNE] Iteration 400: error = 0.0098304, gradient norm = 0.0000600 (50 iterations in 0.086s)\n",
            "[t-SNE] Iteration 450: error = 0.0067793, gradient norm = 0.0000356 (50 iterations in 0.088s)\n",
            "[t-SNE] Iteration 500: error = 0.0050022, gradient norm = 0.0000241 (50 iterations in 0.087s)\n",
            "[t-SNE] Iteration 550: error = 0.0039015, gradient norm = 0.0000177 (50 iterations in 0.086s)\n",
            "[t-SNE] Iteration 600: error = 0.0032677, gradient norm = 0.0000137 (50 iterations in 0.088s)\n",
            "[t-SNE] Iteration 650: error = 0.0026814, gradient norm = 0.0000110 (50 iterations in 0.086s)\n",
            "[t-SNE] Iteration 700: error = 0.0023625, gradient norm = 0.0000091 (50 iterations in 0.087s)\n",
            "[t-SNE] Iteration 750: error = 0.0019827, gradient norm = 0.0000076 (50 iterations in 0.087s)\n",
            "[t-SNE] Iteration 800: error = 0.0016616, gradient norm = 0.0000066 (50 iterations in 0.087s)\n",
            "[t-SNE] Iteration 850: error = 0.0016034, gradient norm = 0.0000057 (50 iterations in 0.088s)\n",
            "[t-SNE] Iteration 900: error = 0.0014317, gradient norm = 0.0000051 (50 iterations in 0.087s)\n",
            "[t-SNE] Iteration 950: error = 0.0010664, gradient norm = 0.0000045 (50 iterations in 0.083s)\n",
            "[t-SNE] Iteration 1000: error = 0.0011605, gradient norm = 0.0000041 (50 iterations in 0.084s)\n",
            "[t-SNE] KL divergence after 1000 iterations: 0.001160\n"
          ],
          "name": "stdout"
        },
        {
          "output_type": "execute_result",
          "data": {
            "text/plain": [
              "<matplotlib.collections.PathCollection at 0x7f456fc6ee10>"
            ]
          },
          "metadata": {
            "tags": []
          },
          "execution_count": 53
        },
        {
          "output_type": "display_data",
          "data": {
            "image/png": "[encoded data removed]",
            "text/plain": [
              "<Figure size 576x576 with 1 Axes>"
            ]
          },
          "metadata": {
            "tags": [],
            "image/png": {
              "width": 490,
              "height": 467
            }
          }
        }
      ]
    },
    {
      "cell_type": "code",
      "metadata": {
        "id": "swT5eyqnPugr",
        "colab_type": "code",
        "colab": {}
      },
      "source": [
        ""
      ],
      "execution_count": 0,
      "outputs": []
    },
    {
      "cell_type": "code",
      "metadata": {
        "id": "SCZ2Axy-Pugu",
        "colab_type": "code",
        "colab": {}
      },
      "source": [
        ""
      ],
      "execution_count": 0,
      "outputs": []
    }
  ]
}