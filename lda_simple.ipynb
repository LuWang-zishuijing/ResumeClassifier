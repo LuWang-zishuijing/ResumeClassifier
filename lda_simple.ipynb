{
 "cells": [
  {
   "cell_type": "markdown",
   "metadata": {},
   "source": [
    "* https://towardsdatascience.com/topic-modeling-and-latent-dirichlet-allocation-in-python-9bf156893c24\n",
    "\n",
    "* https://radimrehurek.com/gensim/models/ldamodel.html"
   ]
  },
  {
   "cell_type": "code",
   "execution_count": 170,
   "metadata": {},
   "outputs": [],
   "source": [
    "import gensim, matplotlib.pyplot\n",
    "from gensim.utils import simple_preprocess\n",
    "from gensim.parsing.preprocessing import STOPWORDS\n",
    "from nltk.stem import WordNetLemmatizer, SnowballStemmer\n",
    "from nltk.stem.porter import *\n",
    "import numpy as np\n",
    "import pandas as pd\n",
    "np.random.seed(2018)\n",
    "import nltk\n",
    "from gensim import corpora, models\n",
    "from pprint import pprint\n",
    "from matplotlib import pyplot as plt"
   ]
  },
  {
   "cell_type": "code",
   "execution_count": 54,
   "metadata": {},
   "outputs": [],
   "source": [
    "# load initial CSV\n",
    "data = pd.read_csv('actor_words.csv', error_bad_lines=True, sep=\"\\t\");"
   ]
  },
  {
   "cell_type": "code",
   "execution_count": 4,
   "metadata": {},
   "outputs": [
    {
     "data": {
      "text/plain": [
       "8743"
      ]
     },
     "execution_count": 4,
     "metadata": {},
     "output_type": "execute_result"
    }
   ],
   "source": [
    "len(data)"
   ]
  },
  {
   "cell_type": "code",
   "execution_count": 5,
   "metadata": {},
   "outputs": [
    {
     "data": {
      "text/html": [
       "<div>\n",
       "<style scoped>\n",
       "    .dataframe tbody tr th:only-of-type {\n",
       "        vertical-align: middle;\n",
       "    }\n",
       "\n",
       "    .dataframe tbody tr th {\n",
       "        vertical-align: top;\n",
       "    }\n",
       "\n",
       "    .dataframe thead th {\n",
       "        text-align: right;\n",
       "    }\n",
       "</style>\n",
       "<table border=\"1\" class=\"dataframe\">\n",
       "  <thead>\n",
       "    <tr style=\"text-align: right;\">\n",
       "      <th></th>\n",
       "      <th>actor_id</th>\n",
       "      <th>words</th>\n",
       "    </tr>\n",
       "  </thead>\n",
       "  <tbody>\n",
       "    <tr>\n",
       "      <th>0</th>\n",
       "      <td>nm9117281</td>\n",
       "      <td>richard spencer refer edit richard spencer roy...</td>\n",
       "    </tr>\n",
       "    <tr>\n",
       "      <th>1</th>\n",
       "      <td>nm0000239</td>\n",
       "      <td>tyler tyler septemb bear rundgren juli york ci...</td>\n",
       "    </tr>\n",
       "    <tr>\n",
       "      <th>2</th>\n",
       "      <td>nm3931285</td>\n",
       "      <td>terri moor refer terri moor basebal american m...</td>\n",
       "    </tr>\n",
       "    <tr>\n",
       "      <th>3</th>\n",
       "      <td>nm1483196</td>\n",
       "      <td>jerri ferrara bear novemb brooklyn york occup ...</td>\n",
       "    </tr>\n",
       "    <tr>\n",
       "      <th>4</th>\n",
       "      <td>nm1636181</td>\n",
       "      <td>peopl steven fletcher steve fletcher fletcher ...</td>\n",
       "    </tr>\n",
       "  </tbody>\n",
       "</table>\n",
       "</div>"
      ],
      "text/plain": [
       "    actor_id                                              words\n",
       "0  nm9117281  richard spencer refer edit richard spencer roy...\n",
       "1  nm0000239  tyler tyler septemb bear rundgren juli york ci...\n",
       "2  nm3931285  terri moor refer terri moor basebal american m...\n",
       "3  nm1483196  jerri ferrara bear novemb brooklyn york occup ...\n",
       "4  nm1636181  peopl steven fletcher steve fletcher fletcher ..."
      ]
     },
     "execution_count": 5,
     "metadata": {},
     "output_type": "execute_result"
    }
   ],
   "source": [
    "data.head()"
   ]
  },
  {
   "cell_type": "code",
   "execution_count": 57,
   "metadata": {},
   "outputs": [],
   "source": [
    "# Documents becomes an array of words\n",
    "documents = [doc.split(' ') for doc in data['words']]"
   ]
  },
  {
   "cell_type": "code",
   "execution_count": 62,
   "metadata": {},
   "outputs": [],
   "source": [
    "dictionary = gensim.corpora.Dictionary(documents)"
   ]
  },
  {
   "cell_type": "code",
   "execution_count": 63,
   "metadata": {},
   "outputs": [
    {
     "data": {
      "text/plain": [
       "['american',\n",
       " 'archdioces',\n",
       " 'articl',\n",
       " 'athlet',\n",
       " 'ball',\n",
       " 'bear',\n",
       " 'bishop',\n",
       " 'british',\n",
       " 'cathol',\n",
       " 'chang']"
      ]
     },
     "execution_count": 63,
     "metadata": {},
     "output_type": "execute_result"
    }
   ],
   "source": [
    "[v for v in dictionary.values()][:10]"
   ]
  },
  {
   "cell_type": "markdown",
   "metadata": {},
   "source": [
    "###  Filter out tokens that appear in\n",
    "* less than 15 documents (absolute number) or\n",
    "* more than 0.5 documents (fraction of total corpus size, not absolute number).\n",
    "* after the above two steps, keep only the first 100000 most frequent tokens.\n"
   ]
  },
  {
   "cell_type": "code",
   "execution_count": 64,
   "metadata": {},
   "outputs": [],
   "source": [
    "dictionary.filter_extremes(no_below=15, no_above=0.5, keep_n=100000)"
   ]
  },
  {
   "cell_type": "code",
   "execution_count": 65,
   "metadata": {},
   "outputs": [
    {
     "data": {
      "text/plain": [
       "['articl',\n",
       " 'athlet',\n",
       " 'ball',\n",
       " 'bishop',\n",
       " 'british',\n",
       " 'cathol',\n",
       " 'chang',\n",
       " 'charact',\n",
       " 'cuban',\n",
       " 'direct']"
      ]
     },
     "execution_count": 65,
     "metadata": {},
     "output_type": "execute_result"
    }
   ],
   "source": [
    "[v for v in dictionary.values()][:10]"
   ]
  },
  {
   "cell_type": "code",
   "execution_count": 66,
   "metadata": {},
   "outputs": [],
   "source": [
    "# bow_documents are documents described by word ids.\n",
    "\n",
    "bow_documents = [dictionary.doc2bow(doc) for doc in documents]"
   ]
  },
  {
   "cell_type": "code",
   "execution_count": 163,
   "metadata": {},
   "outputs": [],
   "source": [
    "doc_len = []\n",
    "for doc in bow_documents:\n",
    "    n_words = 0\n",
    "    for words in doc:\n",
    "        n_words += words[1]\n",
    "    doc_len.append(n_words)"
   ]
  },
  {
   "cell_type": "code",
   "execution_count": 173,
   "metadata": {},
   "outputs": [
    {
     "data": {
      "text/plain": [
       "<BarContainer object of 8743 artists>"
      ]
     },
     "execution_count": 173,
     "metadata": {},
     "output_type": "execute_result"
    },
    {
     "data": {
      "image/png": "[encoded data removed]",
      "text/plain": [
       "<Figure size 432x288 with 1 Axes>"
      ]
     },
     "metadata": {
      "needs_background": "light"
     },
     "output_type": "display_data"
    }
   ],
   "source": [
    "plt.bar(range(len(doc_len)), doc_len)"
   ]
  },
  {
   "cell_type": "code",
   "execution_count": 171,
   "metadata": {},
   "outputs": [],
   "source": [
    "def plot_doc(doc):\n",
    "    plt.plot([e[0] for e in doc], [e[1] for e in doc])"
   ]
  },
  {
   "cell_type": "code",
   "execution_count": 219,
   "metadata": {},
   "outputs": [
    {
     "data": {
      "text/plain": [
       "'refer'"
      ]
     },
     "execution_count": 219,
     "metadata": {},
     "output_type": "execute_result"
    }
   ],
   "source": [
    "dictionary[bow_documents[5][0][0]]"
   ]
  },
  {
   "cell_type": "code",
   "execution_count": 172,
   "metadata": {},
   "outputs": [
    {
     "data": {
      "image/png": "[encoded data removed]",
      "text/plain": [
       "<Figure size 432x288 with 1 Axes>"
      ]
     },
     "metadata": {
      "needs_background": "light"
     },
     "output_type": "display_data"
    }
   ],
   "source": [
    "plot_doc(bow_documents[5])"
   ]
  },
  {
   "cell_type": "code",
   "execution_count": 35,
   "metadata": {},
   "outputs": [],
   "source": [
    "def preview_bow_doc(bow_doc, limit=10000):\n",
    "    for i in range(min(len(bow_doc), limit)):\n",
    "        print(\"Word {} (\\\"{}\\\") appears {} time.\".format(bow_doc[i][0],\n",
    "                                                     dictionary[bow_doc[i][0]], \n",
    "                                                     bow_doc[i][1]))"
   ]
  },
  {
   "cell_type": "code",
   "execution_count": 86,
   "metadata": {},
   "outputs": [
    {
     "name": "stdout",
     "output_type": "stream",
     "text": [
      "Word 33 (\"refer\") appears 1 time.\n",
      "Word 53 (\"actress\") appears 2 time.\n",
      "Word 81 (\"art\") appears 2 time.\n",
      "Word 146 (\"citi\") appears 1 time.\n",
      "Word 201 (\"drama\") appears 1 time.\n",
      "Word 208 (\"educ\") appears 1 time.\n",
      "Word 236 (\"father\") appears 1 time.\n",
      "Word 278 (\"graduat\") appears 2 time.\n",
      "Word 281 (\"grandmoth\") appears 1 time.\n",
      "Word 336 (\"john\") appears 1 time.\n",
      "Word 359 (\"legal\") appears 1 time.\n",
      "Word 422 (\"name\") appears 1 time.\n",
      "Word 535 (\"school\") appears 4 time.\n",
      "Word 666 (\"york\") appears 1 time.\n",
      "Word 745 (\"theater\") appears 2 time.\n",
      "Word 845 (\"colorado\") appears 2 time.\n",
      "Word 846 (\"denver\") appears 5 time.\n",
      "Word 847 (\"exhibit\") appears 1 time.\n",
      "Word 848 (\"grow\") appears 1 time.\n",
      "Word 849 (\"harri\") appears 1 time.\n",
      "Word 850 (\"juilliard\") appears 2 time.\n",
      "Word 851 (\"justin\") appears 3 time.\n",
      "Word 852 (\"lupe\") appears 5 time.\n",
      "Word 853 (\"museum\") appears 1 time.\n",
      "Word 854 (\"program\") appears 1 time.\n",
      "Word 855 (\"sitcom\") appears 1 time.\n",
      "Word 856 (\"specialist\") appears 1 time.\n"
     ]
    }
   ],
   "source": [
    "preview_bow_doc(bow_documents[5])\n",
    "\n",
    "# Wiki link for doc #5: https://en.wikipedia.org/wiki/Justine_Lupe"
   ]
  },
  {
   "cell_type": "code",
   "execution_count": 85,
   "metadata": {},
   "outputs": [
    {
     "data": {
      "text/plain": [
       "actor_id                                            nm4419771\n",
       "words       justin lupe bear denver colorado educ juilliar...\n",
       "Name: 5, dtype: object"
      ]
     },
     "execution_count": 85,
     "metadata": {},
     "output_type": "execute_result"
    }
   ],
   "source": [
    "data.iloc[5,]"
   ]
  },
  {
   "cell_type": "code",
   "execution_count": 189,
   "metadata": {},
   "outputs": [],
   "source": [
    "n_topics = 6\n",
    "lda_model = gensim.models.LdaMulticore(bow_documents, num_topics=n_topics,\n",
    "                                       id2word=dictionary, passes=2, workers=2)"
   ]
  },
  {
   "cell_type": "code",
   "execution_count": 108,
   "metadata": {},
   "outputs": [
    {
     "name": "stderr",
     "output_type": "stream",
     "text": [
      "/home/ubuntu/anaconda3/lib/python3.7/site-packages/smart_open/smart_open_lib.py:398: UserWarning: This function is deprecated, use smart_open.open instead. See the migration notes for details: https://github.com/RaRe-Technologies/smart_open/blob/master/README.rst#migrating-to-the-new-open-function\n",
      "  'See the migration notes for details: %s' % _MIGRATION_NOTES_URL\n",
      "/home/ubuntu/anaconda3/lib/python3.7/site-packages/smart_open/smart_open_lib.py:398: UserWarning: This function is deprecated, use smart_open.open instead. See the migration notes for details: https://github.com/RaRe-Technologies/smart_open/blob/master/README.rst#migrating-to-the-new-open-function\n",
      "  'See the migration notes for details: %s' % _MIGRATION_NOTES_URL\n"
     ]
    }
   ],
   "source": [
    "lda_model.save('./lda_simple_8743.model')"
   ]
  },
  {
   "cell_type": "code",
   "execution_count": 91,
   "metadata": {},
   "outputs": [
    {
     "name": "stdout",
     "output_type": "stream",
     "text": [
      "Topic: 0 \n",
      "Words: 0.012*\"sourc\" + 0.010*\"live\" + 0.009*\"remov\" + 0.008*\"actress\" + 0.007*\"help\" + 0.006*\"citat\" + 0.006*\"messag\" + 0.006*\"templat\" + 0.006*\"learn\" + 0.006*\"articl\"\n",
      "Topic: 1 \n",
      "Words: 0.009*\"album\" + 0.009*\"releas\" + 0.009*\"award\" + 0.008*\"music\" + 0.007*\"perform\" + 0.005*\"song\" + 0.005*\"best\" + 0.005*\"work\" + 0.005*\"comedi\" + 0.005*\"actress\"\n",
      "Topic: 2 \n",
      "Words: 0.010*\"race\" + 0.007*\"season\" + 0.007*\"model\" + 0.005*\"time\" + 0.004*\"finish\" + 0.004*\"work\" + 0.004*\"second\" + 0.004*\"hilton\" + 0.004*\"award\" + 0.004*\"actress\"\n",
      "Topic: 3 \n",
      "Words: 0.015*\"match\" + 0.012*\"championship\" + 0.010*\"fight\" + 0.009*\"orton\" + 0.009*\"defeat\" + 0.009*\"wrestl\" + 0.008*\"titl\" + 0.008*\"cena\" + 0.007*\"team\" + 0.007*\"rossi\"\n",
      "Topic: 4 \n",
      "Words: 0.006*\"music\" + 0.006*\"releas\" + 0.006*\"season\" + 0.005*\"perform\" + 0.005*\"william\" + 0.004*\"video\" + 0.004*\"episod\" + 0.004*\"award\" + 0.004*\"charact\" + 0.004*\"school\"\n",
      "Topic: 5 \n",
      "Words: 0.009*\"footbal\" + 0.008*\"team\" + 0.007*\"link\" + 0.007*\"player\" + 0.006*\"season\" + 0.006*\"disambigu\" + 0.006*\"refer\" + 0.006*\"leagu\" + 0.005*\"game\" + 0.005*\"articl\"\n"
     ]
    }
   ],
   "source": [
    "for idx, topic in lda_model.print_topics(-1):\n",
    "    print('Topic: {} \\nWords: {}'.format(idx, topic))\n",
    "    "
   ]
  },
  {
   "cell_type": "code",
   "execution_count": 128,
   "metadata": {},
   "outputs": [
    {
     "data": {
      "text/plain": [
       "[(5, 0.99098235)]"
      ]
     },
     "execution_count": 128,
     "metadata": {},
     "output_type": "execute_result"
    }
   ],
   "source": [
    "lda_model[bow_documents[2]]"
   ]
  },
  {
   "cell_type": "code",
   "execution_count": 106,
   "metadata": {},
   "outputs": [
    {
     "data": {
      "text/plain": [
       "actor_id                                            nm3931285\n",
       "words       terri moor refer terri moor basebal american m...\n",
       "Name: 2, dtype: object"
      ]
     },
     "execution_count": 106,
     "metadata": {},
     "output_type": "execute_result"
    }
   ],
   "source": [
    "data.iloc[2,]"
   ]
  },
  {
   "cell_type": "code",
   "execution_count": 148,
   "metadata": {},
   "outputs": [
    {
     "data": {
      "text/plain": [
       "array(8743)"
      ]
     },
     "execution_count": 148,
     "metadata": {},
     "output_type": "execute_result"
    }
   ],
   "source": [
    "(np.array(len(documents)))"
   ]
  },
  {
   "cell_type": "code",
   "execution_count": 175,
   "metadata": {},
   "outputs": [
    {
     "ename": "AttributeError",
     "evalue": "'list' object has no attribute 'iloc'",
     "output_type": "error",
     "traceback": [
      "\u001b[0;31m---------------------------------------------------------------------------\u001b[0m",
      "\u001b[0;31mAttributeError\u001b[0m                            Traceback (most recent call last)",
      "\u001b[0;32m<ipython-input-175-8f872dee05bb>\u001b[0m in \u001b[0;36m<module>\u001b[0;34m()\u001b[0m\n\u001b[0;32m----> 1\u001b[0;31m \u001b[0mdocuments\u001b[0m\u001b[0;34m.\u001b[0m\u001b[0miloc\u001b[0m\u001b[0;34m[\u001b[0m\u001b[0;34m:\u001b[0m\u001b[0;34m,\u001b[0m \u001b[0;36m0\u001b[0m\u001b[0;34m]\u001b[0m\u001b[0;34m.\u001b[0m\u001b[0mvalues\u001b[0m\u001b[0;34m\u001b[0m\u001b[0;34m\u001b[0m\u001b[0m\n\u001b[0m",
      "\u001b[0;31mAttributeError\u001b[0m: 'list' object has no attribute 'iloc'"
     ]
    }
   ],
   "source": [
    "documents.iloc[:, 0].values"
   ]
  },
  {
   "cell_type": "markdown",
   "metadata": {},
   "source": [
    "### Calculate results for visualisation of topics\n",
    "\n",
    "https://pyldavis.readthedocs.io/en/latest/modules/API.html#pyLDAvis.prepare"
   ]
  },
  {
   "cell_type": "code",
   "execution_count": 132,
   "metadata": {},
   "outputs": [],
   "source": [
    "import pyLDAvis"
   ]
  },
  {
   "cell_type": "code",
   "execution_count": 138,
   "metadata": {},
   "outputs": [
    {
     "data": {
      "text/plain": [
       "[(1811, 0.009487415),\n",
       " (506, 0.009080396),\n",
       " (757, 0.008522481),\n",
       " (24, 0.0076768952),\n",
       " (459, 0.007056268),\n",
       " (570, 0.0054725218),\n",
       " (100, 0.00503773),\n",
       " (661, 0.0050180694),\n",
       " (150, 0.00491207),\n",
       " (53, 0.004786604)]"
      ]
     },
     "execution_count": 138,
     "metadata": {},
     "output_type": "execute_result"
    }
   ],
   "source": [
    "lda_model.get_topic_terms(1)"
   ]
  },
  {
   "cell_type": "code",
   "execution_count": 186,
   "metadata": {},
   "outputs": [
    {
     "data": {
      "text/plain": [
       "8743"
      ]
     },
     "execution_count": 186,
     "metadata": {},
     "output_type": "execute_result"
    }
   ],
   "source": [
    "len(bow_documents)"
   ]
  },
  {
   "cell_type": "code",
   "execution_count": 292,
   "metadata": {},
   "outputs": [
    {
     "name": "stdout",
     "output_type": "stream",
     "text": [
      "[[0.00753517 0.         0.32552081 0.49933541 0.         0.1676086 ]\n",
      " [0.3827025  0.53115022 0.0270328  0.00624418 0.0164739  0.0363964 ]\n",
      " [0.00723501 0.         0.22394679 0.7688182  0.         0.        ]\n",
      " ...\n",
      " [0.47436729 0.333895   0.00158241 0.0910694  0.0990859  0.        ]\n",
      " [0.00431532 0.         0.         0.         0.         0.99568468]\n",
      " [0.99343938 0.00656062 0.         0.         0.         0.        ]]\n"
     ]
    }
   ],
   "source": [
    "doc_topic_dist_df = np.zeros((len(bow_documents), n_topics))\n",
    "\n",
    "for n_doc in range(len(bow_documents)):\n",
    "    doc_topics = lda_model.get_document_topics(bow_documents[n_doc])\n",
    "    for topic in doc_topics:\n",
    "        topic_no = topic[0]\n",
    "        topic_pro = topic[1]\n",
    "        if topic_no == 0:\n",
    "            doc_topic_dist_df[n_doc][0] = round(topic_pro, 7)\n",
    "        elif topic_no == 1:\n",
    "            doc_topic_dist_df[n_doc][1] = round(topic_pro, 7)\n",
    "        elif topic_no == 2:\n",
    "            doc_topic_dist_df[n_doc][2] = round(topic_pro, 7)\n",
    "        elif topic_no == 3:\n",
    "            doc_topic_dist_df[n_doc][3] = round(topic_pro, 7)\n",
    "        elif topic_no == 4:\n",
    "            doc_topic_dist_df[n_doc][4] = round(topic_pro, 7)\n",
    "        elif topic_no == 5:\n",
    "            doc_topic_dist_df[n_doc][5] = round(topic_pro, 7)\n",
    "        else:\n",
    "            print('ERROR')\n",
    "    \n",
    "    # make sure each row sum ==1.0\n",
    "    if np.sum(doc_topic_dist_df[n_doc]) > 1.0:\n",
    "        diff = np.sum(doc_topic_dist_df[n_doc]) -1.0\n",
    "        max_topic_pro = np.max(doc_topic_dist_df[n_doc])\n",
    "        for i in range(n_topics):\n",
    "            if doc_topic_dist_df[n_doc][i] == max_topic_pro:\n",
    "                doc_topic_dist_df[n_doc][i] -= diff\n",
    "                break\n",
    "    elif np.sum(doc_topic_dist_df[n_doc]) < 1.0:\n",
    "        diff = 1.0 - np.sum(doc_topic_dist_df[n_doc])\n",
    "        min_topic_pro = np.min(doc_topic_dist_df[n_doc])\n",
    "        for i in range(n_topics):\n",
    "            if doc_topic_dist_df[n_doc][i] == 0.0 or doc_topic_dist_df[n_doc][i] == min_topic_pro:\n",
    "                doc_topic_dist_df[n_doc][i] += diff\n",
    "                break\n",
    "\n",
    "\n",
    "print(doc_topic_dist_df)"
   ]
  },
  {
   "cell_type": "code",
   "execution_count": 259,
   "metadata": {},
   "outputs": [
    {
     "name": "stdout",
     "output_type": "stream",
     "text": [
      "[[0.         0.         0.3093394  0.51220649 0.         0.16569659]\n",
      " [0.36803871 0.53451729 0.02752784 0.         0.02291167 0.0381226 ]\n",
      " [0.         0.         0.22318314 0.76958179 0.         0.        ]\n",
      " ...\n",
      " [0.46657619 0.33759424 0.         0.09136408 0.10288303 0.        ]\n",
      " [0.         0.         0.         0.         0.         0.99568474]\n",
      " [0.99276525 0.         0.         0.         0.         0.        ]]\n"
     ]
    }
   ],
   "source": []
  },
  {
   "cell_type": "code",
   "execution_count": 298,
   "metadata": {},
   "outputs": [
    {
     "data": {
      "text/plain": [
       "True"
      ]
     },
     "execution_count": 298,
     "metadata": {},
     "output_type": "execute_result"
    }
   ],
   "source": [
    "np.any(np.sum(doc_topic_dist_df,axis=1) == 1.0)"
   ]
  },
  {
   "cell_type": "code",
   "execution_count": 293,
   "metadata": {},
   "outputs": [
    {
     "data": {
      "text/plain": [
       "8743.0"
      ]
     },
     "execution_count": 293,
     "metadata": {},
     "output_type": "execute_result"
    }
   ],
   "source": [
    "np.sum(np.sum(doc_topic_dist_df,axis=1))"
   ]
  },
  {
   "cell_type": "code",
   "execution_count": 205,
   "metadata": {},
   "outputs": [
    {
     "data": {
      "text/plain": [
       "(6, 9507)"
      ]
     },
     "execution_count": 205,
     "metadata": {},
     "output_type": "execute_result"
    }
   ],
   "source": [
    "(lda_model.get_topics()).shape"
   ]
  },
  {
   "cell_type": "code",
   "execution_count": 215,
   "metadata": {},
   "outputs": [
    {
     "data": {
      "text/plain": [
       "(9507,)"
      ]
     },
     "execution_count": 215,
     "metadata": {},
     "output_type": "execute_result"
    }
   ],
   "source": [
    "vocab = np.array([v for v in dictionary.values()])\n",
    "vocab.shape"
   ]
  },
  {
   "cell_type": "code",
   "execution_count": 231,
   "metadata": {},
   "outputs": [],
   "source": [
    "dictionary_frec = np.zeros(vocab.shape)\n",
    "for doc in bow_documents:\n",
    "    for word in doc:\n",
    "        dictionary_frec[word[0]] += word[1]\n",
    "print(dictionary_frec)"
   ]
  },
  {
   "cell_type": "code",
   "execution_count": 299,
   "metadata": {},
   "outputs": [
    {
     "name": "stdout",
     "output_type": "stream",
     "text": [
      "(6, 9507)\n",
      "(8743, 6)\n",
      "(8743,)\n",
      "(9507,)\n",
      "(9507,)\n"
     ]
    }
   ],
   "source": [
    "# topic term distribution:shape (n_topics, n_terms), where n_terms is len(vocab)\n",
    "# The probability for each word in each topic, shape (num_topics, vocabulary_size).\n",
    "topic_term_dist = lda_model.get_topics()\n",
    "print(topic_term_dist.shape)\n",
    "\n",
    "# doc_topic_dists :array-like, shape (n_docs, n_topics)\n",
    "# Matrix of document-topic probabilities.\n",
    "doc_topic_dist = doc_topic_dist_df\n",
    "print(doc_topic_dist.shape)\n",
    "\n",
    "# doc_lengths :array-like, shape n_docs\n",
    "# The length of each document\n",
    "doc_length = np.array(doc_len)\n",
    "print(doc_length.shape)\n",
    "\n",
    "# vocab :array-like, shape n_terms\n",
    "# list of all the words in the corpus used to train the model\n",
    "vocab = np.array([v for v in dictionary.values()])\n",
    "print(vocab.shape)\n",
    "\n",
    "# term_frequency :array-like, shape n_terms\n",
    "# The count of each particular term over the entire corpus. \n",
    "# The ordering of these counts should correspond with vocab and topic_term_dists.\n",
    "term_frec = np.array(dictionary_frec)\n",
    "print(term_frec.shape)\n"
   ]
  },
  {
   "cell_type": "code",
   "execution_count": null,
   "metadata": {},
   "outputs": [],
   "source": []
  },
  {
   "cell_type": "code",
   "execution_count": 300,
   "metadata": {},
   "outputs": [
    {
     "name": "stderr",
     "output_type": "stream",
     "text": [
      "/home/ubuntu/anaconda3/lib/python3.7/site-packages/pyLDAvis/_prepare.py:257: FutureWarning: Sorting because non-concatenation axis is not aligned. A future version\n",
      "of pandas will change to not sort by default.\n",
      "\n",
      "To accept the future behavior, pass 'sort=False'.\n",
      "\n",
      "To retain the current behavior and silence the warning, pass 'sort=True'.\n",
      "\n",
      "  return pd.concat([default_term_info] + list(topic_dfs))\n"
     ]
    }
   ],
   "source": [
    "topics = pyLDAvis.prepare(topic_term_dist, doc_topic_dist, doc_length, vocab, term_frec)"
   ]
  },
  {
   "cell_type": "code",
   "execution_count": 304,
   "metadata": {},
   "outputs": [],
   "source": [
    "pyLDAvis.save_html(topics, fileobj=\"results.html\")"
   ]
  },
  {
   "cell_type": "code",
   "execution_count": null,
   "metadata": {},
   "outputs": [],
   "source": []
  }
 ],
 "metadata": {
  "kernelspec": {
   "display_name": "Python 3",
   "language": "python",
   "name": "python3"
  },
  "language_info": {
   "codemirror_mode": {
    "name": "ipython",
    "version": 3
   },
   "file_extension": ".py",
   "mimetype": "text/x-python",
   "name": "python",
   "nbconvert_exporter": "python",
   "pygments_lexer": "ipython3",
   "version": "3.7.3"
  }
 },
 "nbformat": 4,
 "nbformat_minor": 2
}
