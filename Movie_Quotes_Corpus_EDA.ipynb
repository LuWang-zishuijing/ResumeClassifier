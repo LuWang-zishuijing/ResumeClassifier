{
 "cells": [
  {
   "cell_type": "markdown",
   "metadata": {
    "colab": {},
    "colab_type": "code",
    "id": "_xChPv_891Xd"
   },
   "source": [
    "# Movie Quotes Corpus EDA"
   ]
  },
  {
   "cell_type": "markdown",
   "metadata": {},
   "source": [
    "# 1. Cleaning"
   ]
  },
  {
   "cell_type": "code",
   "execution_count": null,
   "metadata": {},
   "outputs": [],
   "source": [
    "# #---mount googledrive to tensorflow--\n",
    "# from google.colab import drive\n",
    "# drive.mount('/content/gdrive')\n",
    "\n",
    "# #---Upload files to tensorflow--\n",
    "# from google.colab import files\n",
    "# uploaded = files.upload()"
   ]
  },
  {
   "cell_type": "code",
   "execution_count": 10,
   "metadata": {
    "colab": {},
    "colab_type": "code",
    "id": "f2M9_LNPAd5Y"
   },
   "outputs": [],
   "source": [
    "import pandas as pd\n",
    "import fileinput"
   ]
  },
  {
   "cell_type": "code",
   "execution_count": 6,
   "metadata": {
    "colab": {
     "base_uri": "https://localhost:8080/",
     "height": 1000
    },
    "colab_type": "code",
    "id": "KWzClXpPJZ9F",
    "outputId": "fbe912a9-0798-4b07-fb63-ce5f5011c85a"
   },
   "outputs": [
    {
     "name": "stdout",
     "output_type": "stream",
     "text": [
      "Cornell Movie-Dialogs Corpus\n",
      "\n",
      "Distributed together with:\n",
      "\n",
      "\"Chameleons in imagined conversations: A new approach to understanding coordination of linguistic style in dialogs\"\n",
      "Cristian Danescu-Niculescu-Mizil and Lillian Lee\n",
      "Proceedings of the Workshop on Cognitive Modeling and Computational Linguistics, ACL 2011.\n",
      "\n",
      "(this paper is included in this zip file)\n",
      "\n",
      "NOTE: If you have results to report on these corpora, please send email to cristian@cs.cornell.edu or llee@cs.cornell.edu so we can add you to our list of people using this data.  Thanks!\n",
      "\n",
      "\n",
      "Contents of this README:\n",
      "\n",
      "\tA) Brief description\n",
      "\tB) Files description\n",
      "\tC) Details on the collection procedure\n",
      "\tD) Contact\n",
      "\n",
      "\n",
      "A) Brief description:\n",
      "\n",
      "This corpus contains a metadata-rich collection of fictional conversations extracted from raw movie scripts:\n",
      "\n",
      "- 220,579 conversational exchanges between 10,292 pairs of movie characters\n",
      "- involves 9,035 characters from 617 movies\n",
      "- in total 304,713 utterances\n",
      "- movie metadata included:\n",
      "\t- genres\n",
      "\t- release year\n",
      "\t- IMDB rating\n",
      "\t- number of IMDB votes\n",
      "\t- IMDB rating\n",
      "- character metadata included:\n",
      "\t- gender (for 3,774 characters)\n",
      "\t- position on movie credits (3,321 characters)\n",
      "\n",
      "\n",
      "B) Files description:\n",
      "\n",
      "In all files the field separator is \" +++$+++ \"\n",
      "\n",
      "- movie_titles_metadata.txt\n",
      "\t- contains information about each movie title\n",
      "\t- fields: \n",
      "\t\t- movieID, \n",
      "\t\t- movie title,\n",
      "\t\t- movie year, \n",
      "\t   \t- IMDB rating,\n",
      "\t\t- no. IMDB votes,\n",
      " \t\t- genres in the format ['genre1','genre2',É,'genreN']\n",
      "\n",
      "- movie_characters_metadata.txt\n",
      "\t- contains information about each movie character\n",
      "\t- fields:\n",
      "\t\t- characterID\n",
      "\t\t- character name\n",
      "\t\t- movieID\n",
      "\t\t- movie title\n",
      "\t\t- gender (\"?\" for unlabeled cases)\n",
      "\t\t- position in credits (\"?\" for unlabeled cases) \n",
      "\n",
      "- movie_lines.txt\n",
      "\t- contains the actual text of each utterance\n",
      "\t- fields:\n",
      "\t\t- lineID\n",
      "\t\t- characterID (who uttered this phrase)\n",
      "\t\t- movieID\n",
      "\t\t- character name\n",
      "\t\t- text of the utterance\n",
      "\n",
      "- movie_conversations.txt\n",
      "\t- the structure of the conversations\n",
      "\t- fields\n",
      "\t\t- characterID of the first character involved in the conversation\n",
      "\t\t- characterID of the second character involved in the conversation\n",
      "\t\t- movieID of the movie in which the conversation occurred\n",
      "\t\t- list of the utterances that make the conversation, in chronological \n",
      "\t\t\torder: ['lineID1','lineID2',É,'lineIDN']\n",
      "\t\t\thas to be matched with movie_lines.txt to reconstruct the actual content\n",
      "\n",
      "- raw_script_urls.txt\n",
      "\t- the urls from which the raw sources were retrieved\n",
      "\n",
      "C) Details on the collection procedure:\n",
      "\n",
      "We started from raw publicly available movie scripts (sources acknowledged in \n",
      "raw_script_urls.txt).  In order to collect the metadata necessary for this study \n",
      "and to distinguish between two script versions of the same movie, we automatically\n",
      " matched each script with an entry in movie database provided by IMDB (The Internet\n",
      " Movie Database; data interfaces available at http://www.imdb.com/interfaces). Some\n",
      " amount of manual correction was also involved. When  more than one movie with the same\n",
      " title was found in IMBD, the match was made with the most popular title \n",
      "(the one that received most IMDB votes)  \n",
      "\n",
      "After discarding all movies that could not be matched or that had less than 5 IMDB \n",
      "votes, we were left with 617 unique titles with metadata including genre, release \n",
      "year, IMDB rating and no. of IMDB votes and cast distribution.  We then identified \n",
      "the pairs of characters that interact and separated their conversations automatically \n",
      "using simple data processing heuristics. After discarding all pairs that exchanged \n",
      "less than 5 conversational exchanges there were 10,292 left, exchanging 220,579 \n",
      "conversational exchanges (304,713 utterances).  After automatically matching the names \n",
      "of the 9,035 involved characters to the list of cast distribution, we used the \n",
      "gender of each interpreting actor to infer the fictional gender of a subset of \n",
      "3,321 movie characters (we raised the number of gendered 3,774 characters through\n",
      " manual annotation). Similarly, we collected the end credit position of a subset \n",
      "of 3,321 characters as a proxy for their status.\n",
      "\n",
      "\n",
      "D) Contact:\n",
      "\n",
      "Please email any questions to: cristian@cs.cornell.edu (Cristian Danescu-Niculescu-Mizil)\n"
     ]
    }
   ],
   "source": [
    "with open('./data/cornell_movie_dialogs_corpus/README.txt', encoding = \"ISO-8859-1\") as f:\n",
    "    print(f.read())\n",
    "\n",
    "f.close()"
   ]
  },
  {
   "cell_type": "code",
   "execution_count": 27,
   "metadata": {
    "colab": {},
    "colab_type": "code",
    "id": "dNlgOzy6VLsw"
   },
   "outputs": [],
   "source": [
    "def read_txt(filename):\n",
    "    with fileinput.FileInput(filename, inplace=True, backup='.bak') as file:\n",
    "        for line in file:\n",
    "            print(line)\n",
    "            try:\n",
    "                print(line.replace(\" +++$+++ \", \"\\t\"), end='')\n",
    "            except:\n",
    "                line.encode('utf-8').strip()\n",
    "                print(line.replace(\" +++$+++ \", \"\\t\"), end='')"
   ]
  },
  {
   "cell_type": "code",
   "execution_count": 35,
   "metadata": {
    "colab": {},
    "colab_type": "code",
    "id": "5dxxNr0IVQ9c"
   },
   "outputs": [],
   "source": [
    "# read_txt('/tf/lec/Galvanize/ResumeClassifier/data/cornell_movie_dialogs_corpus/origin_txt/movie_characters_metadata.txt')\n",
    "# read_txt('movie_conversations.txt')\n",
    "# read_txt('movie_titles_metadata.txt')\n",
    "# read_txt('movie_lines.txt')"
   ]
  },
  {
   "cell_type": "code",
   "execution_count": 14,
   "metadata": {},
   "outputs": [],
   "source": [
    "import sys\n",
    "sys.path.insert(0,'/tf/lec/Galvanize/ResumeClassifier/src')"
   ]
  },
  {
   "cell_type": "code",
   "execution_count": 24,
   "metadata": {},
   "outputs": [],
   "source": [
    "from movie_quotes_corpus_EDA import txt_to_df"
   ]
  },
  {
   "cell_type": "code",
   "execution_count": 56,
   "metadata": {
    "colab": {
     "base_uri": "https://localhost:8080/",
     "height": 204
    },
    "colab_type": "code",
    "id": "Nrcsg7jkLcol",
    "outputId": "abaf304e-d499-4aa4-f0fb-8f92a4340fa4"
   },
   "outputs": [],
   "source": [
    "# characters_metadata_cols = ['characterID', 'character_name', 'movieID', 'movieTitle', 'gender', 'position_in_credits']\n",
    "# conversations_cols = [\"characterID_First\", \"characterID_second\", \"movieID\", \"list_of_utterances\"]\n",
    "# titles_metadata_cols = ['movieID', 'movieTitle', 'movieYear', 'IMDB_rating', 'numIMDBvotes', 'Genres']\n",
    "# lines_cols = ['lineID', 'characterID', 'movieID', 'character_name', 'text_of_utterances']\n",
    "\n",
    "\n",
    "# characters_metadata_df = txt_to_df('movie_characters_metadata.txt', characters_metadata_cols)\n",
    "# conversations_df = txt_to_df('movie_conversations.txt', conversations_cols)\n",
    "# titles_metadata_df = txt_to_df('movie_titles_metadata.txt', titles_metadata_cols)\n",
    "# lines_df = txt_to_df('movie_lines.txt', lines_cols)\n",
    "\n",
    "None"
   ]
  },
  {
   "cell_type": "code",
   "execution_count": null,
   "metadata": {},
   "outputs": [],
   "source": [
    "# characters_metadata_df.to_csv('movie_characters_metadata.csv', index=False)\n",
    "# conversations_df.to_csv('movie_conversations.csv', index=False)\n",
    "# titles_metadata_df.to_csv('movie_titles_metadata.csv', index=False)\n",
    "# lines_df.to_csv('movie_lines.csv', index=False)"
   ]
  },
  {
   "cell_type": "code",
   "execution_count": 92,
   "metadata": {},
   "outputs": [
    {
     "data": {
      "text/html": [
       "<div>\n",
       "<style scoped>\n",
       "    .dataframe tbody tr th:only-of-type {\n",
       "        vertical-align: middle;\n",
       "    }\n",
       "\n",
       "    .dataframe tbody tr th {\n",
       "        vertical-align: top;\n",
       "    }\n",
       "\n",
       "    .dataframe thead th {\n",
       "        text-align: right;\n",
       "    }\n",
       "</style>\n",
       "<table border=\"1\" class=\"dataframe\">\n",
       "  <thead>\n",
       "    <tr style=\"text-align: right;\">\n",
       "      <th></th>\n",
       "      <th>characterID</th>\n",
       "      <th>character_name</th>\n",
       "      <th>movieID</th>\n",
       "      <th>movieTitle</th>\n",
       "      <th>gender</th>\n",
       "      <th>position_in_credits</th>\n",
       "    </tr>\n",
       "  </thead>\n",
       "  <tbody>\n",
       "    <tr>\n",
       "      <th>0</th>\n",
       "      <td>u0</td>\n",
       "      <td>BIANCA</td>\n",
       "      <td>m0</td>\n",
       "      <td>10 things i hate about you</td>\n",
       "      <td>f</td>\n",
       "      <td>4</td>\n",
       "    </tr>\n",
       "    <tr>\n",
       "      <th>1</th>\n",
       "      <td>u1</td>\n",
       "      <td>BRUCE</td>\n",
       "      <td>m0</td>\n",
       "      <td>10 things i hate about you</td>\n",
       "      <td>?</td>\n",
       "      <td>?</td>\n",
       "    </tr>\n",
       "    <tr>\n",
       "      <th>2</th>\n",
       "      <td>u2</td>\n",
       "      <td>CAMERON</td>\n",
       "      <td>m0</td>\n",
       "      <td>10 things i hate about you</td>\n",
       "      <td>m</td>\n",
       "      <td>3</td>\n",
       "    </tr>\n",
       "    <tr>\n",
       "      <th>3</th>\n",
       "      <td>u3</td>\n",
       "      <td>CHASTITY</td>\n",
       "      <td>m0</td>\n",
       "      <td>10 things i hate about you</td>\n",
       "      <td>?</td>\n",
       "      <td>?</td>\n",
       "    </tr>\n",
       "    <tr>\n",
       "      <th>4</th>\n",
       "      <td>u4</td>\n",
       "      <td>JOEY</td>\n",
       "      <td>m0</td>\n",
       "      <td>10 things i hate about you</td>\n",
       "      <td>m</td>\n",
       "      <td>6</td>\n",
       "    </tr>\n",
       "  </tbody>\n",
       "</table>\n",
       "</div>"
      ],
      "text/plain": [
       "  characterID character_name movieID                  movieTitle gender  \\\n",
       "0          u0         BIANCA      m0  10 things i hate about you      f   \n",
       "1          u1          BRUCE      m0  10 things i hate about you      ?   \n",
       "2          u2        CAMERON      m0  10 things i hate about you      m   \n",
       "3          u3       CHASTITY      m0  10 things i hate about you      ?   \n",
       "4          u4           JOEY      m0  10 things i hate about you      m   \n",
       "\n",
       "  position_in_credits  \n",
       "0                   4  \n",
       "1                   ?  \n",
       "2                   3  \n",
       "3                   ?  \n",
       "4                   6  "
      ]
     },
     "execution_count": 92,
     "metadata": {},
     "output_type": "execute_result"
    }
   ],
   "source": [
    "characters_metadata_df = pd.read_csv('/tf/lec/Galvanize/ResumeClassifier/data/cornell_movie_dialogs_corpus/create_csv/movie_characters_metadata.csv')\n",
    "characters_metadata_df.head()"
   ]
  },
  {
   "cell_type": "code",
   "execution_count": 86,
   "metadata": {},
   "outputs": [
    {
     "data": {
      "text/html": [
       "<div>\n",
       "<style scoped>\n",
       "    .dataframe tbody tr th:only-of-type {\n",
       "        vertical-align: middle;\n",
       "    }\n",
       "\n",
       "    .dataframe tbody tr th {\n",
       "        vertical-align: top;\n",
       "    }\n",
       "\n",
       "    .dataframe thead th {\n",
       "        text-align: right;\n",
       "    }\n",
       "</style>\n",
       "<table border=\"1\" class=\"dataframe\">\n",
       "  <thead>\n",
       "    <tr style=\"text-align: right;\">\n",
       "      <th></th>\n",
       "      <th>characterID_First</th>\n",
       "      <th>characterID_second</th>\n",
       "      <th>movieID</th>\n",
       "      <th>list_of_utterances</th>\n",
       "    </tr>\n",
       "  </thead>\n",
       "  <tbody>\n",
       "    <tr>\n",
       "      <th>0</th>\n",
       "      <td>u0</td>\n",
       "      <td>u2</td>\n",
       "      <td>m0</td>\n",
       "      <td>['L194', 'L195', 'L196', 'L197']</td>\n",
       "    </tr>\n",
       "    <tr>\n",
       "      <th>1</th>\n",
       "      <td>u0</td>\n",
       "      <td>u2</td>\n",
       "      <td>m0</td>\n",
       "      <td>['L198', 'L199']</td>\n",
       "    </tr>\n",
       "    <tr>\n",
       "      <th>2</th>\n",
       "      <td>u0</td>\n",
       "      <td>u2</td>\n",
       "      <td>m0</td>\n",
       "      <td>['L200', 'L201', 'L202', 'L203']</td>\n",
       "    </tr>\n",
       "    <tr>\n",
       "      <th>3</th>\n",
       "      <td>u0</td>\n",
       "      <td>u2</td>\n",
       "      <td>m0</td>\n",
       "      <td>['L204', 'L205', 'L206']</td>\n",
       "    </tr>\n",
       "    <tr>\n",
       "      <th>4</th>\n",
       "      <td>u0</td>\n",
       "      <td>u2</td>\n",
       "      <td>m0</td>\n",
       "      <td>['L207', 'L208']</td>\n",
       "    </tr>\n",
       "  </tbody>\n",
       "</table>\n",
       "</div>"
      ],
      "text/plain": [
       "  characterID_First characterID_second movieID  \\\n",
       "0                u0                 u2      m0   \n",
       "1                u0                 u2      m0   \n",
       "2                u0                 u2      m0   \n",
       "3                u0                 u2      m0   \n",
       "4                u0                 u2      m0   \n",
       "\n",
       "                 list_of_utterances  \n",
       "0  ['L194', 'L195', 'L196', 'L197']  \n",
       "1                  ['L198', 'L199']  \n",
       "2  ['L200', 'L201', 'L202', 'L203']  \n",
       "3          ['L204', 'L205', 'L206']  \n",
       "4                  ['L207', 'L208']  "
      ]
     },
     "execution_count": 86,
     "metadata": {},
     "output_type": "execute_result"
    }
   ],
   "source": [
    "conversations_df = pd.read_csv('/tf/lec/Galvanize/ResumeClassifier/data/cornell_movie_dialogs_corpus/create_csv/movie_conversations.csv')\n",
    "conversations_df.head()"
   ]
  },
  {
   "cell_type": "code",
   "execution_count": 104,
   "metadata": {},
   "outputs": [
    {
     "data": {
      "text/html": [
       "<div>\n",
       "<style scoped>\n",
       "    .dataframe tbody tr th:only-of-type {\n",
       "        vertical-align: middle;\n",
       "    }\n",
       "\n",
       "    .dataframe tbody tr th {\n",
       "        vertical-align: top;\n",
       "    }\n",
       "\n",
       "    .dataframe thead th {\n",
       "        text-align: right;\n",
       "    }\n",
       "</style>\n",
       "<table border=\"1\" class=\"dataframe\">\n",
       "  <thead>\n",
       "    <tr style=\"text-align: right;\">\n",
       "      <th></th>\n",
       "      <th>movieID</th>\n",
       "      <th>movieTitle</th>\n",
       "      <th>movieYear</th>\n",
       "      <th>IMDB_rating</th>\n",
       "      <th>numIMDBvotes</th>\n",
       "      <th>Genres</th>\n",
       "    </tr>\n",
       "  </thead>\n",
       "  <tbody>\n",
       "    <tr>\n",
       "      <th>0</th>\n",
       "      <td>m0</td>\n",
       "      <td>10 things i hate about you</td>\n",
       "      <td>1999</td>\n",
       "      <td>6.9</td>\n",
       "      <td>62847</td>\n",
       "      <td>['comedy', 'romance']</td>\n",
       "    </tr>\n",
       "    <tr>\n",
       "      <th>1</th>\n",
       "      <td>m1</td>\n",
       "      <td>1492: conquest of paradise</td>\n",
       "      <td>1992</td>\n",
       "      <td>6.2</td>\n",
       "      <td>10421</td>\n",
       "      <td>['adventure', 'biography', 'drama', 'history']</td>\n",
       "    </tr>\n",
       "    <tr>\n",
       "      <th>2</th>\n",
       "      <td>m2</td>\n",
       "      <td>15 minutes</td>\n",
       "      <td>2001</td>\n",
       "      <td>6.1</td>\n",
       "      <td>25854</td>\n",
       "      <td>['action', 'crime', 'drama', 'thriller']</td>\n",
       "    </tr>\n",
       "    <tr>\n",
       "      <th>3</th>\n",
       "      <td>m3</td>\n",
       "      <td>2001: a space odyssey</td>\n",
       "      <td>1968</td>\n",
       "      <td>8.4</td>\n",
       "      <td>163227</td>\n",
       "      <td>['adventure', 'mystery', 'sci-fi']</td>\n",
       "    </tr>\n",
       "    <tr>\n",
       "      <th>4</th>\n",
       "      <td>m4</td>\n",
       "      <td>48 hrs.</td>\n",
       "      <td>1982</td>\n",
       "      <td>6.9</td>\n",
       "      <td>22289</td>\n",
       "      <td>['action', 'comedy', 'crime', 'drama', 'thrill...</td>\n",
       "    </tr>\n",
       "  </tbody>\n",
       "</table>\n",
       "</div>"
      ],
      "text/plain": [
       "  movieID                  movieTitle movieYear  IMDB_rating  numIMDBvotes  \\\n",
       "0      m0  10 things i hate about you      1999          6.9         62847   \n",
       "1      m1  1492: conquest of paradise      1992          6.2         10421   \n",
       "2      m2                  15 minutes      2001          6.1         25854   \n",
       "3      m3       2001: a space odyssey      1968          8.4        163227   \n",
       "4      m4                     48 hrs.      1982          6.9         22289   \n",
       "\n",
       "                                              Genres  \n",
       "0                              ['comedy', 'romance']  \n",
       "1     ['adventure', 'biography', 'drama', 'history']  \n",
       "2           ['action', 'crime', 'drama', 'thriller']  \n",
       "3                 ['adventure', 'mystery', 'sci-fi']  \n",
       "4  ['action', 'comedy', 'crime', 'drama', 'thrill...  "
      ]
     },
     "execution_count": 104,
     "metadata": {},
     "output_type": "execute_result"
    }
   ],
   "source": [
    "titles_metadata_df = pd.read_csv('/tf/lec/Galvanize/ResumeClassifier/data/cornell_movie_dialogs_corpus/create_csv/movie_titles_metadata.csv')\n",
    "titles_metadata_df.head()"
   ]
  },
  {
   "cell_type": "code",
   "execution_count": 111,
   "metadata": {},
   "outputs": [
    {
     "data": {
      "text/html": [
       "<div>\n",
       "<style scoped>\n",
       "    .dataframe tbody tr th:only-of-type {\n",
       "        vertical-align: middle;\n",
       "    }\n",
       "\n",
       "    .dataframe tbody tr th {\n",
       "        vertical-align: top;\n",
       "    }\n",
       "\n",
       "    .dataframe thead th {\n",
       "        text-align: right;\n",
       "    }\n",
       "</style>\n",
       "<table border=\"1\" class=\"dataframe\">\n",
       "  <thead>\n",
       "    <tr style=\"text-align: right;\">\n",
       "      <th></th>\n",
       "      <th>lineID</th>\n",
       "      <th>characterID</th>\n",
       "      <th>movieID</th>\n",
       "      <th>character_name</th>\n",
       "      <th>text_of_utterances</th>\n",
       "    </tr>\n",
       "  </thead>\n",
       "  <tbody>\n",
       "    <tr>\n",
       "      <th>0</th>\n",
       "      <td>L1045</td>\n",
       "      <td>u0</td>\n",
       "      <td>m0</td>\n",
       "      <td>BIANCA</td>\n",
       "      <td>They do not!</td>\n",
       "    </tr>\n",
       "    <tr>\n",
       "      <th>1</th>\n",
       "      <td>L1044</td>\n",
       "      <td>u2</td>\n",
       "      <td>m0</td>\n",
       "      <td>CAMERON</td>\n",
       "      <td>They do to!</td>\n",
       "    </tr>\n",
       "    <tr>\n",
       "      <th>2</th>\n",
       "      <td>L985</td>\n",
       "      <td>u0</td>\n",
       "      <td>m0</td>\n",
       "      <td>BIANCA</td>\n",
       "      <td>I hope so.</td>\n",
       "    </tr>\n",
       "    <tr>\n",
       "      <th>3</th>\n",
       "      <td>L984</td>\n",
       "      <td>u2</td>\n",
       "      <td>m0</td>\n",
       "      <td>CAMERON</td>\n",
       "      <td>She okay?</td>\n",
       "    </tr>\n",
       "    <tr>\n",
       "      <th>4</th>\n",
       "      <td>L925</td>\n",
       "      <td>u0</td>\n",
       "      <td>m0</td>\n",
       "      <td>BIANCA</td>\n",
       "      <td>Let's go.</td>\n",
       "    </tr>\n",
       "  </tbody>\n",
       "</table>\n",
       "</div>"
      ],
      "text/plain": [
       "  lineID characterID movieID character_name text_of_utterances\n",
       "0  L1045          u0      m0         BIANCA       They do not!\n",
       "1  L1044          u2      m0        CAMERON        They do to!\n",
       "2   L985          u0      m0         BIANCA         I hope so.\n",
       "3   L984          u2      m0        CAMERON          She okay?\n",
       "4   L925          u0      m0         BIANCA          Let's go."
      ]
     },
     "execution_count": 111,
     "metadata": {},
     "output_type": "execute_result"
    }
   ],
   "source": [
    "lines_df = pd.read_csv('/tf/lec/Galvanize/ResumeClassifier/data/cornell_movie_dialogs_corpus/create_csv/movie_lines.csv')\n",
    "lines_df.head()"
   ]
  },
  {
   "cell_type": "code",
   "execution_count": 112,
   "metadata": {},
   "outputs": [
    {
     "data": {
      "text/plain": [
       "((1706, 6), (83097, 4), (74, 6), (5401, 5))"
      ]
     },
     "execution_count": 112,
     "metadata": {},
     "output_type": "execute_result"
    }
   ],
   "source": [
    "characters_metadata_df.shape, conversations_df.shape, titles_metadata_df.shape, lines_df.shape"
   ]
  },
  {
   "cell_type": "code",
   "execution_count": 108,
   "metadata": {},
   "outputs": [
    {
     "data": {
      "text/plain": [
       "113"
      ]
     },
     "execution_count": 108,
     "metadata": {},
     "output_type": "execute_result"
    }
   ],
   "source": [
    "# lines_df.drop_duplicates(subset =\"lineID\", keep = 'first', inplace = True)\n",
    "# lines_df.to_csv('/tf/lec/Galvanize/ResumeClassifier/data/cornell_movie_dialogs_corpus/create_csv/movie_lines.csv', index=False)"
   ]
  },
  {
   "cell_type": "code",
   "execution_count": 110,
   "metadata": {},
   "outputs": [],
   "source": []
  },
  {
   "cell_type": "code",
   "execution_count": 109,
   "metadata": {
    "colab": {},
    "colab_type": "code",
    "id": "yCvIyUqcbrgf"
   },
   "outputs": [],
   "source": []
  },
  {
   "cell_type": "code",
   "execution_count": null,
   "metadata": {},
   "outputs": [],
   "source": []
  }
 ],
 "metadata": {
  "colab": {
   "collapsed_sections": [],
   "name": "Movie_Quotes_Corpus.ipynb",
   "provenance": [],
   "version": "0.3.2"
  },
  "kernelspec": {
   "display_name": "Python 3",
   "language": "python",
   "name": "python3"
  },
  "language_info": {
   "codemirror_mode": {
    "name": "ipython",
    "version": 3
   },
   "file_extension": ".py",
   "mimetype": "text/x-python",
   "name": "python",
   "nbconvert_exporter": "python",
   "pygments_lexer": "ipython3",
   "version": "3.5.2"
  }
 },
 "nbformat": 4,
 "nbformat_minor": 1
}
