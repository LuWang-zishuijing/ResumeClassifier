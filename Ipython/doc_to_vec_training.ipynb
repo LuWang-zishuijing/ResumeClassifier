{
 "cells": [
  {
   "cell_type": "markdown",
   "metadata": {},
   "source": [
    "### TensorFlow RNN example:\n",
    "* https://www.tensorflow.org/beta/tutorials/text/text_classification_rnn\n",
    "\n",
    "### TensorFlow word embedding example:\n",
    "* https://github.com/FrancescoSaverioZuppichini/How-To-Embed-in-TensorFlow\n",
    "\n",
    "### The following section shows how to use _Gensim doc2vec_\n",
    "* https://medium.com/@mishra.thedeepak/doc2vec-simple-implementation-example-df2afbbfbad5"
   ]
  },
  {
   "cell_type": "code",
   "execution_count": 14,
   "metadata": {},
   "outputs": [],
   "source": [
    "import numpy as np\n",
    "import tensorflow as tf\n",
    "import pandas as pd\n",
    "import gensim, matplotlib.pyplot\n",
    "from matplotlib import pyplot as plt\n",
    "from gensim.models.doc2vec import Doc2Vec, TaggedDocument\n",
    "from nltk.tokenize import word_tokenize"
   ]
  },
  {
   "cell_type": "code",
   "execution_count": 3,
   "metadata": {},
   "outputs": [
    {
     "data": {
      "text/plain": [
       "8743"
      ]
     },
     "execution_count": 3,
     "metadata": {},
     "output_type": "execute_result"
    }
   ],
   "source": [
    "# load initial CSV\n",
    "data = pd.read_csv('actor_words.csv', error_bad_lines=True, sep=\"\\t\");\n",
    "len(data)"
   ]
  },
  {
   "cell_type": "code",
   "execution_count": 4,
   "metadata": {},
   "outputs": [
    {
     "data": {
      "text/html": [
       "<div>\n",
       "<style scoped>\n",
       "    .dataframe tbody tr th:only-of-type {\n",
       "        vertical-align: middle;\n",
       "    }\n",
       "\n",
       "    .dataframe tbody tr th {\n",
       "        vertical-align: top;\n",
       "    }\n",
       "\n",
       "    .dataframe thead th {\n",
       "        text-align: right;\n",
       "    }\n",
       "</style>\n",
       "<table border=\"1\" class=\"dataframe\">\n",
       "  <thead>\n",
       "    <tr style=\"text-align: right;\">\n",
       "      <th></th>\n",
       "      <th>actor_id</th>\n",
       "      <th>words</th>\n",
       "    </tr>\n",
       "  </thead>\n",
       "  <tbody>\n",
       "    <tr>\n",
       "      <th>0</th>\n",
       "      <td>nm9117281</td>\n",
       "      <td>richard spencer refer edit richard spencer roy...</td>\n",
       "    </tr>\n",
       "    <tr>\n",
       "      <th>1</th>\n",
       "      <td>nm0000239</td>\n",
       "      <td>tyler tyler septemb bear rundgren juli york ci...</td>\n",
       "    </tr>\n",
       "    <tr>\n",
       "      <th>2</th>\n",
       "      <td>nm3931285</td>\n",
       "      <td>terri moor refer terri moor basebal american m...</td>\n",
       "    </tr>\n",
       "    <tr>\n",
       "      <th>3</th>\n",
       "      <td>nm1483196</td>\n",
       "      <td>jerri ferrara bear novemb brooklyn york occup ...</td>\n",
       "    </tr>\n",
       "    <tr>\n",
       "      <th>4</th>\n",
       "      <td>nm1636181</td>\n",
       "      <td>peopl steven fletcher steve fletcher fletcher ...</td>\n",
       "    </tr>\n",
       "  </tbody>\n",
       "</table>\n",
       "</div>"
      ],
      "text/plain": [
       "    actor_id                                              words\n",
       "0  nm9117281  richard spencer refer edit richard spencer roy...\n",
       "1  nm0000239  tyler tyler septemb bear rundgren juli york ci...\n",
       "2  nm3931285  terri moor refer terri moor basebal american m...\n",
       "3  nm1483196  jerri ferrara bear novemb brooklyn york occup ...\n",
       "4  nm1636181  peopl steven fletcher steve fletcher fletcher ..."
      ]
     },
     "execution_count": 4,
     "metadata": {},
     "output_type": "execute_result"
    }
   ],
   "source": [
    "data.head()"
   ]
  },
  {
   "cell_type": "code",
   "execution_count": 5,
   "metadata": {},
   "outputs": [],
   "source": [
    "documents = [doc.split(' ') for doc in data['words']]\n",
    "dictionary = gensim.corpora.Dictionary(documents)\n",
    "id_documents = [dictionary.doc2idx(doc) for doc in documents]\n",
    "\n",
    "EMBED_SIZE = 64\n",
    "VOCAB_LEN = len(dictionary)"
   ]
  },
  {
   "cell_type": "markdown",
   "metadata": {},
   "source": [
    "# Section 1: <br/> Word Embedding using TensorFlow utility functions"
   ]
  },
  {
   "cell_type": "code",
   "execution_count": 25,
   "metadata": {},
   "outputs": [
    {
     "name": "stderr",
     "output_type": "stream",
     "text": [
      "WARNING: Logging before flag parsing goes to stderr.\n",
      "W0728 07:51:45.206148 140518402488128 deprecation.py:506] From /home/ubuntu/.local/lib/python3.7/site-packages/tensorflow/python/keras/initializers.py:119: calling RandomUniform.__init__ (from tensorflow.python.ops.init_ops) with dtype is deprecated and will be removed in a future version.\n",
      "Instructions for updating:\n",
      "Call initializer instance with the dtype argument instead of passing it to the constructor\n"
     ]
    }
   ],
   "source": [
    "embeddings = tf.keras.layers.Embedding(VOCAB_LEN, EMBED_SIZE)\n",
    "#embed = embeddings(words_ids)"
   ]
  },
  {
   "cell_type": "code",
   "execution_count": 58,
   "metadata": {},
   "outputs": [
    {
     "name": "stdout",
     "output_type": "stream",
     "text": [
      "[[ 0.04511908  0.03520627 -0.02229661 ...  0.04617784  0.01646097\n",
      "  -0.04977871]\n",
      " [-0.04680055 -0.02812361  0.04170681 ... -0.04717082 -0.01794761\n",
      "   0.01319997]\n",
      " [ 0.02009621 -0.01734088 -0.0233441  ... -0.00024404 -0.02478902\n",
      "   0.02889558]\n",
      " ...\n",
      " [-0.02539396  0.02007299  0.02081367 ... -0.02244829 -0.00859259\n",
      "   0.02856563]\n",
      " [ 0.04744588 -0.0308162   0.01388674 ... -0.0303816  -0.03948122\n",
      "   0.04013746]\n",
      " [-0.00266994 -0.0272782  -0.00787928 ... -0.04095827 -0.0017556\n",
      "   0.0166905 ]]\n"
     ]
    }
   ],
   "source": [
    "session = tf.Session()\n",
    "session.run(tf.global_variables_initializer())\n",
    "    \n",
    "#     for i in range(1):\n",
    "#         embed = embeddings(tf.constant(bow_documents[i]))\n",
    "#         print(session.run(embed))\n",
    "embed = embeddings(tf.constant(id_documents[0]))\n",
    "result = session.run(embed)\n",
    "print(result)"
   ]
  },
  {
   "cell_type": "code",
   "execution_count": 20,
   "metadata": {},
   "outputs": [
    {
     "ename": "NameError",
     "evalue": "name 'embeddings' is not defined",
     "output_type": "error",
     "traceback": [
      "\u001b[0;31m---------------------------------------------------------------------------\u001b[0m",
      "\u001b[0;31mNameError\u001b[0m                                 Traceback (most recent call last)",
      "\u001b[0;32m<ipython-input-20-34102649b73d>\u001b[0m in \u001b[0;36m<module>\u001b[0;34m()\u001b[0m\n\u001b[0;32m----> 1\u001b[0;31m \u001b[0membed\u001b[0m \u001b[0;34m=\u001b[0m \u001b[0membeddings\u001b[0m\u001b[0;34m(\u001b[0m\u001b[0mtf\u001b[0m\u001b[0;34m.\u001b[0m\u001b[0mconstant\u001b[0m\u001b[0;34m(\u001b[0m\u001b[0mid_documents\u001b[0m\u001b[0;34m[\u001b[0m\u001b[0;36m0\u001b[0m\u001b[0;34m]\u001b[0m\u001b[0;34m)\u001b[0m\u001b[0;34m)\u001b[0m\u001b[0;34m\u001b[0m\u001b[0;34m\u001b[0m\u001b[0m\n\u001b[0m\u001b[1;32m      2\u001b[0m \u001b[0mresult\u001b[0m \u001b[0;34m=\u001b[0m \u001b[0msession\u001b[0m\u001b[0;34m.\u001b[0m\u001b[0mrun\u001b[0m\u001b[0;34m(\u001b[0m\u001b[0membed\u001b[0m\u001b[0;34m)\u001b[0m\u001b[0;34m\u001b[0m\u001b[0;34m\u001b[0m\u001b[0m\n\u001b[1;32m      3\u001b[0m \u001b[0mprint\u001b[0m\u001b[0;34m(\u001b[0m\u001b[0mresult\u001b[0m\u001b[0;34m.\u001b[0m\u001b[0mshape\u001b[0m\u001b[0;34m)\u001b[0m\u001b[0;34m\u001b[0m\u001b[0;34m\u001b[0m\u001b[0m\n",
      "\u001b[0;31mNameError\u001b[0m: name 'embeddings' is not defined"
     ]
    }
   ],
   "source": [
    "embed = embeddings(tf.constant(id_documents[0]))\n",
    "result = session.run(embed)\n",
    "print(result.shape)"
   ]
  },
  {
   "cell_type": "code",
   "execution_count": 83,
   "metadata": {},
   "outputs": [
    {
     "data": {
      "text/plain": [
       "<BarContainer object of 64 artists>"
      ]
     },
     "execution_count": 83,
     "metadata": {},
     "output_type": "execute_result"
    },
    {
     "data": {
      "image/png": "[encoded data removed]",
      "text/plain": [
       "<Figure size 432x288 with 1 Axes>"
      ]
     },
     "metadata": {
      "needs_background": "light"
     },
     "output_type": "display_data"
    }
   ],
   "source": [
    "s_sorted = list(result[0])\n",
    "s_sorted.sort()\n",
    "plt.bar(range(len(s_sorted)), s_sorted)"
   ]
  },
  {
   "cell_type": "markdown",
   "metadata": {},
   "source": [
    "# Section 2: <br/> Document Embedding using Gensim utility functions"
   ]
  },
  {
   "cell_type": "code",
   "execution_count": 7,
   "metadata": {},
   "outputs": [],
   "source": [
    "tagged_documents = [TaggedDocument(words=_d, tags=[str(i)])\n",
    "               for i, _d in enumerate(documents)]"
   ]
  },
  {
   "cell_type": "code",
   "execution_count": 8,
   "metadata": {},
   "outputs": [],
   "source": [
    "max_epochs = 100\n",
    "vec_size = 64\n",
    "alpha = 0.025\n",
    "\n",
    "model = Doc2Vec(vector_size=vec_size,\n",
    "                alpha=alpha, \n",
    "                min_alpha=0.00025,\n",
    "                min_count=1,\n",
    "                dm =1)\n",
    "\n",
    "model.build_vocab(tagged_documents)"
   ]
  },
  {
   "cell_type": "markdown",
   "metadata": {},
   "source": [
    "### Attention: The following code takes <span style=\"color:red\">hours</span> to run!"
   ]
  },
  {
   "cell_type": "code",
   "execution_count": 9,
   "metadata": {},
   "outputs": [
    {
     "name": "stdout",
     "output_type": "stream",
     "text": [
      "iteration 0\n"
     ]
    },
    {
     "name": "stderr",
     "output_type": "stream",
     "text": [
      "/home/ubuntu/anaconda3/lib/python3.7/site-packages/ipykernel_launcher.py:5: DeprecationWarning: Call to deprecated `iter` (Attribute will be removed in 4.0.0, use self.epochs instead).\n",
      "  \"\"\"\n",
      "WARNING: Logging before flag parsing goes to stderr.\n",
      "W0728 08:52:02.833388 139631039678272 base_any2vec.py:1182] Effective 'alpha' higher than previous training cycles\n"
     ]
    },
    {
     "name": "stdout",
     "output_type": "stream",
     "text": [
      "iteration 1\n",
      "iteration 2\n",
      "iteration 3\n",
      "iteration 4\n",
      "iteration 5\n",
      "iteration 6\n",
      "iteration 7\n",
      "iteration 8\n",
      "iteration 9\n",
      "iteration 10\n",
      "iteration 11\n",
      "iteration 12\n",
      "iteration 13\n",
      "iteration 14\n",
      "iteration 15\n",
      "iteration 16\n",
      "iteration 17\n",
      "iteration 18\n",
      "iteration 19\n",
      "iteration 20\n",
      "iteration 21\n",
      "iteration 22\n",
      "iteration 23\n",
      "iteration 24\n",
      "iteration 25\n",
      "iteration 26\n",
      "iteration 27\n",
      "iteration 28\n",
      "iteration 29\n",
      "iteration 30\n",
      "iteration 31\n",
      "iteration 32\n",
      "iteration 33\n",
      "iteration 34\n",
      "iteration 35\n",
      "iteration 36\n",
      "iteration 37\n",
      "iteration 38\n",
      "iteration 39\n",
      "iteration 40\n",
      "iteration 41\n",
      "iteration 42\n",
      "iteration 43\n",
      "iteration 44\n",
      "iteration 45\n",
      "iteration 46\n",
      "iteration 47\n",
      "iteration 48\n",
      "iteration 49\n",
      "iteration 50\n",
      "iteration 51\n",
      "iteration 52\n",
      "iteration 53\n",
      "iteration 54\n",
      "iteration 55\n",
      "iteration 56\n",
      "iteration 57\n",
      "iteration 58\n",
      "iteration 59\n",
      "iteration 60\n",
      "iteration 61\n",
      "iteration 62\n",
      "iteration 63\n",
      "iteration 64\n",
      "iteration 65\n",
      "iteration 66\n",
      "iteration 67\n",
      "iteration 68\n",
      "iteration 69\n",
      "iteration 70\n",
      "iteration 71\n",
      "iteration 72\n",
      "iteration 73\n",
      "iteration 74\n",
      "iteration 75\n",
      "iteration 76\n",
      "iteration 77\n",
      "iteration 78\n",
      "iteration 79\n",
      "iteration 80\n",
      "iteration 81\n",
      "iteration 82\n",
      "iteration 83\n",
      "iteration 84\n",
      "iteration 85\n",
      "iteration 86\n",
      "iteration 87\n",
      "iteration 88\n",
      "iteration 89\n",
      "iteration 90\n",
      "iteration 91\n",
      "iteration 92\n",
      "iteration 93\n",
      "iteration 94\n",
      "iteration 95\n",
      "iteration 96\n",
      "iteration 97\n",
      "iteration 98\n",
      "iteration 99\n"
     ]
    }
   ],
   "source": [
    "for epoch in range(max_epochs):\n",
    "    print('iteration {0}'.format(epoch))\n",
    "    model.train(tagged_documents,\n",
    "                total_examples=model.corpus_count,\n",
    "                epochs=model.iter)\n",
    "    # decrease the learning rate\n",
    "    model.alpha -= 0.0002\n",
    "    # fix the learning rate, no decay\n",
    "    model.min_alpha = model.alpha"
   ]
  },
  {
   "cell_type": "code",
   "execution_count": 10,
   "metadata": {},
   "outputs": [
    {
     "name": "stderr",
     "output_type": "stream",
     "text": [
      "/home/ubuntu/anaconda3/lib/python3.7/site-packages/smart_open/smart_open_lib.py:398: UserWarning: This function is deprecated, use smart_open.open instead. See the migration notes for details: https://github.com/RaRe-Technologies/smart_open/blob/master/README.rst#migrating-to-the-new-open-function\n",
      "  'See the migration notes for details: %s' % _MIGRATION_NOTES_URL\n"
     ]
    }
   ],
   "source": [
    "model.save(\"doc2vec.model\")"
   ]
  },
  {
   "cell_type": "code",
   "execution_count": 43,
   "metadata": {},
   "outputs": [
    {
     "data": {
      "text/plain": [
       "array([-0.38695827,  3.8830674 ,  0.43090698,  1.1944395 , -3.8563445 ,\n",
       "       -0.5207199 ,  3.1082714 , -2.0516856 ,  0.10741506,  5.734262  ,\n",
       "        1.4895195 , -1.2336769 ,  1.7599123 , -1.0166384 ,  2.1700926 ,\n",
       "       -1.6097348 ,  0.4833594 ,  1.7696611 , -0.95406926, -1.6711662 ,\n",
       "       -0.71172476,  2.9915977 ,  2.2542138 , -1.9252723 ,  1.1420487 ,\n",
       "        0.8682902 , -0.88675433,  1.4410722 , -0.18752459,  6.2745566 ,\n",
       "        0.5922742 , -2.1087677 , -3.096448  , -0.28587434,  1.1578687 ,\n",
       "        1.6324515 ,  2.302745  , -0.64902633, -1.1221656 , -0.32792643,\n",
       "        1.7817233 , -3.081297  ,  3.1640007 ,  0.00929401,  1.3008361 ,\n",
       "        0.46843928, -0.59939635,  3.8168843 , -3.0407596 , -0.239019  ,\n",
       "       -0.42742875,  0.6953853 , -0.8329674 , -0.41483083, -1.8112652 ,\n",
       "        1.6158277 ,  4.574692  , -2.0374384 , -2.1904974 ,  1.0845188 ,\n",
       "       -0.05043416, -0.05246749,  3.2156043 , -0.37439883], dtype=float32)"
      ]
     },
     "execution_count": 43,
     "metadata": {},
     "output_type": "execute_result"
    }
   ],
   "source": [
    "model.docvecs['1']"
   ]
  },
  {
   "cell_type": "markdown",
   "metadata": {},
   "source": [
    "### This shows how to get a vector from a unseen document"
   ]
  },
  {
   "cell_type": "code",
   "execution_count": 45,
   "metadata": {},
   "outputs": [
    {
     "data": {
      "text/plain": [
       "array([-0.00779751,  0.03991877,  0.01181339,  0.04247627, -0.00145237,\n",
       "       -0.01153552,  0.01932175, -0.01162885, -0.05266205, -0.01168998,\n",
       "        0.01124748,  0.00862187,  0.07864628, -0.0188379 ,  0.05349749,\n",
       "       -0.05261891, -0.01583992, -0.0025587 , -0.01101332, -0.02938098,\n",
       "       -0.00455474, -0.00949716,  0.06491309, -0.00618559,  0.00747635,\n",
       "        0.01999293, -0.03000754,  0.0433947 ,  0.00303176,  0.01533198,\n",
       "       -0.01597861,  0.0165515 , -0.02732591, -0.02021959,  0.01120659,\n",
       "       -0.04488126, -0.0083193 , -0.01599173, -0.02221525,  0.00515372,\n",
       "        0.03688693,  0.02876372,  0.01095231,  0.07972059,  0.00585544,\n",
       "        0.01816357, -0.00573944, -0.01267321, -0.0502651 ,  0.01314331,\n",
       "        0.03976009,  0.00079893, -0.06988663,  0.01264931, -0.02812026,\n",
       "       -0.02684506,  0.02051595, -0.01882426, -0.00127563,  0.04177581,\n",
       "       -0.01347028, -0.00188771, -0.01297824,  0.03023175], dtype=float32)"
      ]
     },
     "execution_count": 45,
     "metadata": {},
     "output_type": "execute_result"
    }
   ],
   "source": [
    "test_unseen_doc = word_tokenize(\"This function is deprecated, use smart_open.open instead. See the migration notes for details\".lower())\n",
    "model.infer_vector(test_unseen_doc)"
   ]
  },
  {
   "cell_type": "code",
   "execution_count": null,
   "metadata": {},
   "outputs": [],
   "source": []
  }
 ],
 "metadata": {
  "kernelspec": {
   "display_name": "Python 3",
   "language": "python",
   "name": "python3"
  },
  "language_info": {
   "codemirror_mode": {
    "name": "ipython",
    "version": 3
   },
   "file_extension": ".py",
   "mimetype": "text/x-python",
   "name": "python",
   "nbconvert_exporter": "python",
   "pygments_lexer": "ipython3",
   "version": "3.7.3"
  }
 },
 "nbformat": 4,
 "nbformat_minor": 2
}
